{
  "nbformat": 4,
  "nbformat_minor": 0,
  "metadata": {
    "colab": {
      "name": "numpy_assignment.ipynb",
      "provenance": [],
      "collapsed_sections": [],
      "authorship_tag": "ABX9TyPZqtVMaSE8nPBFJZB5/Rol"
    },
    "kernelspec": {
      "name": "python3",
      "display_name": "Python 3"
    },
    "language_info": {
      "name": "python"
    }
  },
  "cells": [
    {
      "cell_type": "code",
      "execution_count": null,
      "metadata": {
        "id": "EUYoGPdey3Y_"
      },
      "outputs": [],
      "source": [
        "#1.Import the numpy package under the name np\n",
        "import numpy as np"
      ]
    },
    {
      "cell_type": "code",
      "source": [
        "#2.Print the numpy version and the configuration\n",
        "print(np.__version__)"
      ],
      "metadata": {
        "colab": {
          "base_uri": "https://localhost:8080/"
        },
        "id": "N-XwN5_JzEpq",
        "outputId": "85d2a066-1cc8-4ba8-86ce-68c4f6baae31"
      },
      "execution_count": null,
      "outputs": [
        {
          "output_type": "stream",
          "name": "stdout",
          "text": [
            "1.21.5\n"
          ]
        }
      ]
    },
    {
      "cell_type": "code",
      "source": [
        "#3. Create a null vector of size 10\n",
        "x = np.zeros(10)\n",
        "print(x)"
      ],
      "metadata": {
        "colab": {
          "base_uri": "https://localhost:8080/"
        },
        "id": "axm0j34-zLg_",
        "outputId": "2da77814-1024-4654-d505-c29fe4043092"
      },
      "execution_count": null,
      "outputs": [
        {
          "output_type": "stream",
          "name": "stdout",
          "text": [
            "[0. 0. 0. 0. 0. 0. 0. 0. 0. 0.]\n"
          ]
        }
      ]
    },
    {
      "cell_type": "code",
      "source": [
        "#4. How to find the memory size of any array\n",
        "print(x.size)"
      ],
      "metadata": {
        "colab": {
          "base_uri": "https://localhost:8080/"
        },
        "id": "UQmZB8N9zr2P",
        "outputId": "283bb04f-11b5-4c8d-b40d-0d2b319168c4"
      },
      "execution_count": null,
      "outputs": [
        {
          "output_type": "stream",
          "name": "stdout",
          "text": [
            "10\n"
          ]
        }
      ]
    },
    {
      "cell_type": "code",
      "source": [
        "#5. How to get the documentation of the numpy add function from the command line? \n",
        "python -c \"import numpy; numpy.info(numpy.add)\""
      ],
      "metadata": {
        "id": "_LseSNdW0Fci"
      },
      "execution_count": null,
      "outputs": []
    },
    {
      "cell_type": "code",
      "source": [
        "#6. Create a null vector of size 10 but the fifth value which is 1\n",
        "x = np.zeros(10)\n",
        "x[5] = 1\n",
        "print(x)"
      ],
      "metadata": {
        "colab": {
          "base_uri": "https://localhost:8080/"
        },
        "id": "WMiitoiz0GLP",
        "outputId": "94f8c429-c5e6-40c5-a986-ff9df8d49c7f"
      },
      "execution_count": null,
      "outputs": [
        {
          "output_type": "stream",
          "name": "stdout",
          "text": [
            "[0. 0. 0. 0. 0. 1. 0. 0. 0. 0.]\n"
          ]
        }
      ]
    },
    {
      "cell_type": "code",
      "source": [
        "#7.Create a vector with values ranging from 10 to 49\n",
        "y = np.arange(10,49)\n",
        "print(y)"
      ],
      "metadata": {
        "colab": {
          "base_uri": "https://localhost:8080/"
        },
        "id": "0TGckwsb0gAU",
        "outputId": "ba38ec2c-aebc-4c76-bdb1-4ce56c7c0b42"
      },
      "execution_count": null,
      "outputs": [
        {
          "output_type": "stream",
          "name": "stdout",
          "text": [
            "[10 11 12 13 14 15 16 17 18 19 20 21 22 23 24 25 26 27 28 29 30 31 32 33\n",
            " 34 35 36 37 38 39 40 41 42 43 44 45 46 47 48]\n"
          ]
        }
      ]
    },
    {
      "cell_type": "code",
      "source": [
        "#8. Reverse a vector (first element becomes last)\n",
        "y = y[::-1]\n",
        "print(y)"
      ],
      "metadata": {
        "colab": {
          "base_uri": "https://localhost:8080/"
        },
        "id": "LBnMQgzy018_",
        "outputId": "a7ae1b1f-8014-4922-f82a-a4f092e9fbe9"
      },
      "execution_count": null,
      "outputs": [
        {
          "output_type": "stream",
          "name": "stdout",
          "text": [
            "[48 47 46 45 44 43 42 41 40 39 38 37 36 35 34 33 32 31 30 29 28 27 26 25\n",
            " 24 23 22 21 20 19 18 17 16 15 14 13 12 11 10]\n"
          ]
        }
      ]
    },
    {
      "cell_type": "code",
      "source": [
        "#9.Create a 3x3 matrix with values ranging from 0 to 8\n",
        "z=np.arange(0,9).reshape(3,3)\n",
        "print(z)"
      ],
      "metadata": {
        "colab": {
          "base_uri": "https://localhost:8080/"
        },
        "id": "-cp6ljMn1ip-",
        "outputId": "8d0eb49e-3115-4078-ce00-2e07b8261f0b"
      },
      "execution_count": null,
      "outputs": [
        {
          "output_type": "stream",
          "name": "stdout",
          "text": [
            "[[0 1 2]\n",
            " [3 4 5]\n",
            " [6 7 8]]\n"
          ]
        }
      ]
    },
    {
      "cell_type": "code",
      "source": [
        "#10.Find indices of non-zero elements from [1,2,0,0,4,0] \n",
        "s = np.nonzero([1,2,0,0,4,0])\n",
        "print(s)"
      ],
      "metadata": {
        "id": "g9SgPqYg14JN",
        "colab": {
          "base_uri": "https://localhost:8080/"
        },
        "outputId": "1ea5b337-2692-461a-f408-602f84abd8e3"
      },
      "execution_count": null,
      "outputs": [
        {
          "output_type": "stream",
          "name": "stdout",
          "text": [
            "(array([0, 1, 4]),)\n"
          ]
        }
      ]
    },
    {
      "cell_type": "code",
      "source": [
        "#11.identity matrix\n",
        "a=np.identity(3)\n",
        "print(a)"
      ],
      "metadata": {
        "colab": {
          "base_uri": "https://localhost:8080/"
        },
        "id": "M-ENnttX2ZSR",
        "outputId": "b7c89d43-a7c4-4dbb-a649-5dea140bbb62"
      },
      "execution_count": null,
      "outputs": [
        {
          "output_type": "stream",
          "name": "stdout",
          "text": [
            "[[1. 0. 0.]\n",
            " [0. 1. 0.]\n",
            " [0. 0. 1.]]\n"
          ]
        }
      ]
    },
    {
      "cell_type": "code",
      "source": [
        "#12. Create a 3x3x3 array with random values\n",
        "b = np.random.random((3,3,3))\n",
        "print(b)"
      ],
      "metadata": {
        "colab": {
          "base_uri": "https://localhost:8080/"
        },
        "id": "hbVnzOFb3NM1",
        "outputId": "f94084b2-934f-41e5-8f51-4b853559e296"
      },
      "execution_count": null,
      "outputs": [
        {
          "output_type": "stream",
          "name": "stdout",
          "text": [
            "[[[0.79068735 0.49503435 0.05071989]\n",
            "  [0.14534005 0.77782264 0.97358509]\n",
            "  [0.61816766 0.17943657 0.24307909]]\n",
            "\n",
            " [[0.09539044 0.74963696 0.76977026]\n",
            "  [0.94123088 0.03510065 0.39877736]\n",
            "  [0.54285441 0.79590619 0.09082909]]\n",
            "\n",
            " [[0.16042999 0.38291582 0.94874758]\n",
            "  [0.61821125 0.54234624 0.68172787]\n",
            "  [0.90660484 0.8561516  0.34679565]]]\n"
          ]
        }
      ]
    },
    {
      "cell_type": "code",
      "source": [
        "#13.Create a 10x10 array with random values and find the minimum and maximum values\n",
        "random_val = np.random.random((10,10))\n",
        "print(random_val)\n",
        "min = random_val.min()\n",
        "max = random_val.max()\n",
        "print(\"min_val:\",min)\n",
        "print(\"max_val:\",max)"
      ],
      "metadata": {
        "colab": {
          "base_uri": "https://localhost:8080/"
        },
        "id": "kBp0Lcu83xmq",
        "outputId": "d71cc7e7-4ddc-49a6-84bc-a241833d32ae"
      },
      "execution_count": null,
      "outputs": [
        {
          "output_type": "stream",
          "name": "stdout",
          "text": [
            "[[0.44300607 0.87806427 0.05692472 0.12517911 0.53563411 0.71608296\n",
            "  0.52338629 0.64020697 0.80136256 0.29156754]\n",
            " [0.00147418 0.2911971  0.86536241 0.18507901 0.43782664 0.08854077\n",
            "  0.00552289 0.85746423 0.71983289 0.87849199]\n",
            " [0.83614467 0.59354188 0.58927687 0.18026331 0.38731681 0.79367809\n",
            "  0.90527608 0.76048743 0.38223369 0.11175798]\n",
            " [0.05387022 0.28865016 0.28594383 0.58369014 0.1210655  0.16160931\n",
            "  0.86762965 0.95986222 0.69596804 0.89724847]\n",
            " [0.29758738 0.46529879 0.26307587 0.95527811 0.94519376 0.52486664\n",
            "  0.01939325 0.08111614 0.51283077 0.34672963]\n",
            " [0.39117584 0.37691145 0.956416   0.45901475 0.28114745 0.36087897\n",
            "  0.57485654 0.8855648  0.01526715 0.34314677]\n",
            " [0.36658196 0.69738824 0.62174932 0.52465442 0.64351642 0.58658335\n",
            "  0.06133948 0.85008774 0.12054162 0.30840547]\n",
            " [0.24998501 0.95921794 0.72820482 0.28403099 0.35494932 0.62084681\n",
            "  0.89131844 0.7337084  0.06122509 0.46574662]\n",
            " [0.15170887 0.81368891 0.25818491 0.68826684 0.31682685 0.17728961\n",
            "  0.40985014 0.14121021 0.99786343 0.38994328]\n",
            " [0.4571453  0.0607721  0.95114956 0.57200165 0.68889462 0.21131798\n",
            "  0.61581643 0.54647119 0.43297437 0.34533654]]\n",
            "min_val: 0.0014741758517717862\n",
            "max_val: 0.9978634258753744\n"
          ]
        }
      ]
    },
    {
      "cell_type": "code",
      "source": [
        "#14. Create a random vector of size 30 and find the mean value\n",
        "c = np.random.random(30)\n",
        "print(c)\n",
        "c = np.mean(c)\n",
        "print(\"mean:\",c)"
      ],
      "metadata": {
        "colab": {
          "base_uri": "https://localhost:8080/"
        },
        "id": "_gS5aOL75Fpw",
        "outputId": "ade4c9ba-bb88-4e5c-f253-5e89827bd255"
      },
      "execution_count": null,
      "outputs": [
        {
          "output_type": "stream",
          "name": "stdout",
          "text": [
            "[0.59421784 0.72280768 0.98073773 0.55067021 0.44197688 0.01841121\n",
            " 0.36333147 0.73087835 0.4299266  0.21531032 0.24439604 0.95334683\n",
            " 0.63955067 0.37524257 0.57376027 0.64877683 0.07766865 0.50892712\n",
            " 0.49756376 0.78442652 0.8406987  0.03761601 0.8531643  0.14466137\n",
            " 0.16990861 0.03303853 0.27913616 0.62227128 0.83917017 0.54455192]\n",
            "mean: 0.490538151919495\n"
          ]
        }
      ]
    },
    {
      "cell_type": "code",
      "source": [
        "#15. Create a 2d array with 1 on the border and 0 inside \n",
        "d_array = np.ones((5,5))\n",
        "d_array[1:-1,1:-1] = 0\n",
        "print(d_array)"
      ],
      "metadata": {
        "colab": {
          "base_uri": "https://localhost:8080/"
        },
        "id": "-df-m2im5o1A",
        "outputId": "725c61b2-06ed-463f-cecf-c428fbcb813c"
      },
      "execution_count": null,
      "outputs": [
        {
          "output_type": "stream",
          "name": "stdout",
          "text": [
            "[[1. 1. 1. 1. 1.]\n",
            " [1. 0. 0. 0. 1.]\n",
            " [1. 0. 0. 0. 1.]\n",
            " [1. 0. 0. 0. 1.]\n",
            " [1. 1. 1. 1. 1.]]\n"
          ]
        }
      ]
    },
    {
      "cell_type": "code",
      "source": [
        "#16. How to add a border (filled with 0's) around an existing array?\n",
        "e=np.ones((5,5))\n",
        "\n",
        "e=np.pad(e, pad_width= 1, mode='constant', constant_values=0)\n",
        "print(e)"
      ],
      "metadata": {
        "colab": {
          "base_uri": "https://localhost:8080/"
        },
        "id": "Ht_EQr6A6hxb",
        "outputId": "2f113f07-8bc1-4f57-c8ec-50c25a158300"
      },
      "execution_count": null,
      "outputs": [
        {
          "output_type": "stream",
          "name": "stdout",
          "text": [
            "[[0. 0. 0. 0. 0. 0. 0.]\n",
            " [0. 1. 1. 1. 1. 1. 0.]\n",
            " [0. 1. 1. 1. 1. 1. 0.]\n",
            " [0. 1. 1. 1. 1. 1. 0.]\n",
            " [0. 1. 1. 1. 1. 1. 0.]\n",
            " [0. 1. 1. 1. 1. 1. 0.]\n",
            " [0. 0. 0. 0. 0. 0. 0.]]\n"
          ]
        }
      ]
    },
    {
      "cell_type": "code",
      "source": [
        "#What is the result of the following expression? \n",
        "print(0 * np.nan)\n",
        "print(np.nan == np.nan)\n",
        "print(np.inf > np.nan)\n",
        "print(np.nan - np.nan)\n",
        "print(0.3 == 3 * 0.1)"
      ],
      "metadata": {
        "colab": {
          "base_uri": "https://localhost:8080/"
        },
        "id": "CEAm3EBj8Ao5",
        "outputId": "3fd9550b-2f29-477c-f673-c543099dd303"
      },
      "execution_count": null,
      "outputs": [
        {
          "output_type": "stream",
          "name": "stdout",
          "text": [
            "nan\n",
            "False\n",
            "False\n",
            "nan\n",
            "False\n"
          ]
        }
      ]
    },
    {
      "cell_type": "code",
      "source": [
        "#18.Create a 5x5 matrix with values 1,2,3,4 just below the diagonal\n",
        "Z = np.diag(1+np.arange(4),k=-1)\n",
        "print(Z)"
      ],
      "metadata": {
        "colab": {
          "base_uri": "https://localhost:8080/"
        },
        "id": "ZwWltN0U90co",
        "outputId": "6e2b8d87-5536-4ec1-bf85-7172f56bdcb8"
      },
      "execution_count": null,
      "outputs": [
        {
          "output_type": "stream",
          "name": "stdout",
          "text": [
            "[[0 0 0 0 0]\n",
            " [1 0 0 0 0]\n",
            " [0 2 0 0 0]\n",
            " [0 0 3 0 0]\n",
            " [0 0 0 4 0]]\n"
          ]
        }
      ]
    },
    {
      "cell_type": "code",
      "source": [
        "#19.Create a 8x8 matrix and fill it with a checkerboard pattern\n",
        "mat = np.ones((3,3))\n",
        "mat = np.zeros((8,8),dtype =int)\n",
        "mat[1::2,::2] = 1\n",
        "mat[::2,1::2] = 1\n",
        "print(mat)"
      ],
      "metadata": {
        "colab": {
          "base_uri": "https://localhost:8080/"
        },
        "id": "rGk-PvJ3-Qks",
        "outputId": "f75639ff-8438-42c5-b200-b8cdec6f8e30"
      },
      "execution_count": null,
      "outputs": [
        {
          "output_type": "stream",
          "name": "stdout",
          "text": [
            "[[0 1 0 1 0 1 0 1]\n",
            " [1 0 1 0 1 0 1 0]\n",
            " [0 1 0 1 0 1 0 1]\n",
            " [1 0 1 0 1 0 1 0]\n",
            " [0 1 0 1 0 1 0 1]\n",
            " [1 0 1 0 1 0 1 0]\n",
            " [0 1 0 1 0 1 0 1]\n",
            " [1 0 1 0 1 0 1 0]]\n"
          ]
        }
      ]
    },
    {
      "cell_type": "code",
      "source": [
        "#20. Consider a (6,7,8) shape array, what is the index (x,y,z) of the 100th element?\n",
        "print(np.unravel_index(99,(6,7,8)))"
      ],
      "metadata": {
        "colab": {
          "base_uri": "https://localhost:8080/"
        },
        "id": "LafWm6cyAGxV",
        "outputId": "a16c2fbf-da47-4113-f1be-20f0ce2c1e4a"
      },
      "execution_count": null,
      "outputs": [
        {
          "output_type": "stream",
          "name": "stdout",
          "text": [
            "(1, 5, 3)\n"
          ]
        }
      ]
    },
    {
      "cell_type": "code",
      "source": [
        "#21. Create a checkerboard 8x8 matrix using the tile function \n",
        "chk_board_mat = np.tile(np.array([[0,1],[1,0]]), (4,4))\n",
        "print(chk_board_mat)"
      ],
      "metadata": {
        "colab": {
          "base_uri": "https://localhost:8080/"
        },
        "id": "ML5_uM_2AXQy",
        "outputId": "68ec90e3-b272-4d85-cbf7-d6dad5084c48"
      },
      "execution_count": null,
      "outputs": [
        {
          "output_type": "stream",
          "name": "stdout",
          "text": [
            "[[0 1 0 1 0 1 0 1]\n",
            " [1 0 1 0 1 0 1 0]\n",
            " [0 1 0 1 0 1 0 1]\n",
            " [1 0 1 0 1 0 1 0]\n",
            " [0 1 0 1 0 1 0 1]\n",
            " [1 0 1 0 1 0 1 0]\n",
            " [0 1 0 1 0 1 0 1]\n",
            " [1 0 1 0 1 0 1 0]]\n"
          ]
        }
      ]
    },
    {
      "cell_type": "code",
      "source": [
        "#22. Normalize a 5x5 random matrix\n",
        "rdm_mat = np.random.random((5,5))\n",
        "rdm_mat = (rdm_mat - np.mean(rdm_mat))/(np.std(rdm_mat))\n",
        "print(rdm_mat)"
      ],
      "metadata": {
        "colab": {
          "base_uri": "https://localhost:8080/"
        },
        "id": "-N6JzleCAymc",
        "outputId": "8bc151c9-c7f0-499c-a0a7-7f7afaaa13bb"
      },
      "execution_count": null,
      "outputs": [
        {
          "output_type": "stream",
          "name": "stdout",
          "text": [
            "[[ 1.64935605  1.41066676  0.81909603 -0.614702   -1.35146602]\n",
            " [ 0.55878955 -0.35679508  1.28532082 -1.38261887 -1.07237406]\n",
            " [-0.93667558 -1.01329688 -1.3582824  -0.21608651  0.94880437]\n",
            " [-0.29486678  0.32045199 -1.41660055 -0.01636887 -0.37385403]\n",
            " [ 0.11757071 -0.1350988   0.92175634  2.0294763   0.47779752]]\n"
          ]
        }
      ]
    },
    {
      "cell_type": "code",
      "source": [
        "#23. Create a custom dtype that describes a color as four unsigned bytes (RGBA)\n",
        "color = np.dtype([(\"r\", np.ubyte),(\"g\", np.ubyte),(\"b\", np.ubyte),(\"a\", np.ubyte)])\n",
        "print(color)"
      ],
      "metadata": {
        "id": "pyLE3hcoBp3S",
        "colab": {
          "base_uri": "https://localhost:8080/"
        },
        "outputId": "abff8fb7-df87-4654-abce-65aad6f98130"
      },
      "execution_count": null,
      "outputs": [
        {
          "output_type": "stream",
          "name": "stdout",
          "text": [
            "[('r', 'u1'), ('g', 'u1'), ('b', 'u1'), ('a', 'u1')]\n"
          ]
        }
      ]
    },
    {
      "cell_type": "code",
      "source": [
        "#24. Multiply a 5x3 matrix by a 3x2 matrix (real matrix product)\n",
        "a = np.ones((5,3))\n",
        "b = np.ones((3,2))\n",
        "c = np.dot(a,b)\n",
        "#or\n",
        "c = a @ b\n",
        "print(c)"
      ],
      "metadata": {
        "colab": {
          "base_uri": "https://localhost:8080/"
        },
        "id": "iChp6zYMDLp2",
        "outputId": "e6b224a7-616c-4453-b5ef-744f0531f471"
      },
      "execution_count": null,
      "outputs": [
        {
          "output_type": "stream",
          "name": "stdout",
          "text": [
            "[[3. 3.]\n",
            " [3. 3.]\n",
            " [3. 3.]\n",
            " [3. 3.]\n",
            " [3. 3.]]\n"
          ]
        }
      ]
    },
    {
      "cell_type": "code",
      "source": [
        "#25.Given a 1D array, negate all elements which are between 3 and 8, in place. \n",
        "Z=np.arange(11)\n",
        "\n",
        "Z[(3 < Z) & (Z < 8)] *= -1\n",
        "print(Z)"
      ],
      "metadata": {
        "id": "PEypfF6DD7Uh",
        "colab": {
          "base_uri": "https://localhost:8080/"
        },
        "outputId": "7c59e60c-5981-495d-ffbe-f59f38679939"
      },
      "execution_count": null,
      "outputs": [
        {
          "output_type": "stream",
          "name": "stdout",
          "text": [
            "[ 0  1  2  3 -4 -5 -6 -7  8  9 10]\n"
          ]
        }
      ]
    },
    {
      "cell_type": "code",
      "source": [
        "#26.What is the output of the following script? \n",
        "print(sum(range(5),-1))\n",
        "from numpy import *\n",
        "print(sum(range(5),-1))"
      ],
      "metadata": {
        "colab": {
          "base_uri": "https://localhost:8080/"
        },
        "id": "fckgRdimaTrP",
        "outputId": "37f3332a-1888-49d1-92c1-87d853d61d4b"
      },
      "execution_count": null,
      "outputs": [
        {
          "output_type": "stream",
          "name": "stdout",
          "text": [
            "9\n",
            "10\n"
          ]
        }
      ]
    },
    {
      "cell_type": "code",
      "source": [
        "#27. Consider an integer vector Z, which of these expressions are legal?\n",
        "Z**Z\n",
        "2 << Z >> 2\n",
        "Z <- Z\n",
        "1j*Z\n",
        "Z/1/1\n",
        "Z<Z>Z"
      ],
      "metadata": {
        "id": "JW0z7eUsaTtw"
      },
      "execution_count": null,
      "outputs": []
    },
    {
      "cell_type": "code",
      "source": [
        "#28. What are the result of the following expressions?\n",
        "np.array(0) / np.array(0)\n",
        "np.array(0) // np.array(0)\n",
        "np.array([np.nan]).astype(int).astype(float)"
      ],
      "metadata": {
        "colab": {
          "base_uri": "https://localhost:8080/"
        },
        "id": "CKl3k4F_aTxH",
        "outputId": "a578dda3-333f-43f8-faaa-395e5c8790c1"
      },
      "execution_count": null,
      "outputs": [
        {
          "output_type": "stream",
          "name": "stderr",
          "text": [
            "/usr/local/lib/python3.7/dist-packages/ipykernel_launcher.py:2: RuntimeWarning: invalid value encountered in true_divide\n",
            "  \n",
            "/usr/local/lib/python3.7/dist-packages/ipykernel_launcher.py:3: RuntimeWarning: divide by zero encountered in floor_divide\n",
            "  This is separate from the ipykernel package so we can avoid doing imports until\n"
          ]
        },
        {
          "output_type": "execute_result",
          "data": {
            "text/plain": [
              "array([-9.22337204e+18])"
            ]
          },
          "metadata": {},
          "execution_count": 6
        }
      ]
    },
    {
      "cell_type": "code",
      "source": [
        "#29. How to round away from zero a float array ?\n",
        "Z = np.random.uniform(-10,+10,10)\n",
        "print(np.copysign(np.ceil(np.abs(Z)), Z))\n",
        "\n",
        "print(np.where(Z>0, np.ceil(Z), np.floor(Z)))"
      ],
      "metadata": {
        "colab": {
          "base_uri": "https://localhost:8080/"
        },
        "id": "azOHxwctaTzr",
        "outputId": "0854d7e6-7e27-4752-81b1-45c28aa56f0b"
      },
      "execution_count": null,
      "outputs": [
        {
          "output_type": "stream",
          "name": "stdout",
          "text": [
            "[ 1.  6. -2.  9.  2.  1.  4.  7.  8. -8.]\n",
            "[ 1.  6. -2.  9.  2.  1.  4.  7.  8. -8.]\n"
          ]
        }
      ]
    },
    {
      "cell_type": "code",
      "source": [
        "#30. How to find common values between two arrays?\n",
        "a1=np.random.randint(0,10,10)\n",
        "a2=np.random.randint(0,10,10)\n",
        "print(np.intersect1d(a1,a2))"
      ],
      "metadata": {
        "colab": {
          "base_uri": "https://localhost:8080/"
        },
        "id": "BwoOKyH6aT2s",
        "outputId": "a3d456da-9be5-4bc9-ecfd-0582dafa89cf"
      },
      "execution_count": null,
      "outputs": [
        {
          "output_type": "stream",
          "name": "stdout",
          "text": [
            "[0 2 6]\n"
          ]
        }
      ]
    },
    {
      "cell_type": "code",
      "source": [
        "#31. How to ignore all numpy warnings (not recommended)? "
      ],
      "metadata": {
        "id": "bvS8zHopaT5l"
      },
      "execution_count": null,
      "outputs": []
    },
    {
      "cell_type": "code",
      "source": [
        "#32. Is the following expressions true? \n",
        "print(np.sqrt(-1) == np.emath.sqrt(-1))"
      ],
      "metadata": {
        "colab": {
          "base_uri": "https://localhost:8080/"
        },
        "id": "IKtEzjvmaT8p",
        "outputId": "46d0ee38-1e56-4689-e64d-d07d7d6804fe"
      },
      "execution_count": null,
      "outputs": [
        {
          "output_type": "stream",
          "name": "stdout",
          "text": [
            "False\n"
          ]
        },
        {
          "output_type": "stream",
          "name": "stderr",
          "text": [
            "/usr/local/lib/python3.7/dist-packages/ipykernel_launcher.py:2: RuntimeWarning: invalid value encountered in sqrt\n",
            "  \n"
          ]
        }
      ]
    },
    {
      "cell_type": "code",
      "source": [
        "#33. How to get the dates of yesterday, today and tomorrow?\n",
        "\n",
        "yesterday=np.datetime64('today')-np.timedelta64(1)\n",
        "Today=np.datetime64('today')\n",
        "Tomorrow=np.datetime64('today')+np.timedelta64(1)\n",
        "print(yesterday,Today,Tomorrow)"
      ],
      "metadata": {
        "colab": {
          "base_uri": "https://localhost:8080/"
        },
        "id": "7nHTtrShaT_a",
        "outputId": "05a61e16-18d9-4389-c1a5-2a53408cd1e4"
      },
      "execution_count": null,
      "outputs": [
        {
          "output_type": "stream",
          "name": "stdout",
          "text": [
            "2022-02-18 2022-02-19 2022-02-20\n"
          ]
        }
      ]
    },
    {
      "cell_type": "code",
      "source": [
        "#34. How to get all the dates corresponding to the month of July 2016?\n",
        "c = np.arange('2016-07', '2016-08', dtype='datetime64[D]')\n",
        "print(c)"
      ],
      "metadata": {
        "colab": {
          "base_uri": "https://localhost:8080/"
        },
        "id": "kQEdOj00aUCZ",
        "outputId": "916b7cb4-375a-4079-a2ab-7d26fa88e294"
      },
      "execution_count": null,
      "outputs": [
        {
          "output_type": "stream",
          "name": "stdout",
          "text": [
            "['2016-07-01' '2016-07-02' '2016-07-03' '2016-07-04' '2016-07-05'\n",
            " '2016-07-06' '2016-07-07' '2016-07-08' '2016-07-09' '2016-07-10'\n",
            " '2016-07-11' '2016-07-12' '2016-07-13' '2016-07-14' '2016-07-15'\n",
            " '2016-07-16' '2016-07-17' '2016-07-18' '2016-07-19' '2016-07-20'\n",
            " '2016-07-21' '2016-07-22' '2016-07-23' '2016-07-24' '2016-07-25'\n",
            " '2016-07-26' '2016-07-27' '2016-07-28' '2016-07-29' '2016-07-30'\n",
            " '2016-07-31']\n"
          ]
        }
      ]
    },
    {
      "cell_type": "code",
      "source": [
        "#35. How to compute ((A+B)*(-A/2)) in place (without copy)?\n",
        "A = np.ones(3)*1\n",
        "B = np.ones(3)*2\n",
        "np.add(A,B,out=B)\n",
        "np.divide(A,2,out=A)\n",
        "np.negative(A,out=A)\n",
        "np.multiply(A,B,out=A)"
      ],
      "metadata": {
        "colab": {
          "base_uri": "https://localhost:8080/"
        },
        "id": "5F5OsigiaUFL",
        "outputId": "97f6f382-4254-417c-c04f-3927b2a3847a"
      },
      "execution_count": null,
      "outputs": [
        {
          "output_type": "execute_result",
          "data": {
            "text/plain": [
              "array([-1.5, -1.5, -1.5])"
            ]
          },
          "metadata": {},
          "execution_count": 38
        }
      ]
    },
    {
      "cell_type": "code",
      "source": [
        "#36. Extract the integer part of a random array using 5 different methods \n",
        "a=np.random.uniform(0,10,5)#np.random.uniform(low,high,size)\n",
        "print(a-a%1)\n",
        "print(a//1)\n",
        "print(np.floor(a))\n",
        "print(a.astype(int))\n",
        "print(np.trunc(a))\n"
      ],
      "metadata": {
        "id": "KwDEVVpYaUIQ",
        "colab": {
          "base_uri": "https://localhost:8080/"
        },
        "outputId": "6e82107a-b313-4dfe-c0ef-c9e4bf4df42c"
      },
      "execution_count": null,
      "outputs": [
        {
          "output_type": "stream",
          "name": "stdout",
          "text": [
            "[0. 7. 0. 9. 1.]\n",
            "[0. 7. 0. 9. 1.]\n",
            "[0. 7. 0. 9. 1.]\n",
            "[0 7 0 9 1]\n",
            "[0. 7. 0. 9. 1.]\n"
          ]
        }
      ]
    },
    {
      "cell_type": "code",
      "source": [
        "#37.Create a 5x5 matrix with row values ranging from 0 to 4\n",
        "a=np.zeros((5,5))\n",
        "a +=np.arange(5)\n",
        "print(a)"
      ],
      "metadata": {
        "id": "AsFzU4BsaULb",
        "colab": {
          "base_uri": "https://localhost:8080/"
        },
        "outputId": "76896ce7-2410-46d1-9a0f-5a36ac588e2a"
      },
      "execution_count": null,
      "outputs": [
        {
          "output_type": "stream",
          "name": "stdout",
          "text": [
            "[[0. 1. 2. 3. 4.]\n",
            " [0. 1. 2. 3. 4.]\n",
            " [0. 1. 2. 3. 4.]\n",
            " [0. 1. 2. 3. 4.]\n",
            " [0. 1. 2. 3. 4.]]\n"
          ]
        }
      ]
    },
    {
      "cell_type": "code",
      "source": [
        "#38. Consider a generator function that generates 10 integers and use it to build an array \n",
        "def generate():\n",
        "  for x in range(10):\n",
        "    yield x\n",
        "a = np.fromiter(generate(),dtype=float,count=-1)\n",
        "print(a)"
      ],
      "metadata": {
        "id": "xRU6drx1aUOb",
        "colab": {
          "base_uri": "https://localhost:8080/"
        },
        "outputId": "32ca811f-8553-464d-bcf0-50c625c1898c"
      },
      "execution_count": null,
      "outputs": [
        {
          "output_type": "stream",
          "name": "stdout",
          "text": [
            "[0. 1. 2. 3. 4. 5. 6. 7. 8. 9.]\n"
          ]
        }
      ]
    },
    {
      "cell_type": "code",
      "source": [
        "#39. Create a vector of size 10 with values ranging from 0 to 1, both excluded\n",
        "np.linspace(0,1,11,endpoint=False)[1:]"
      ],
      "metadata": {
        "id": "wzZfqX7NaURR",
        "colab": {
          "base_uri": "https://localhost:8080/"
        },
        "outputId": "72b6f0ff-7fd3-443a-fd4a-7cbde9fbbd86"
      },
      "execution_count": null,
      "outputs": [
        {
          "output_type": "execute_result",
          "data": {
            "text/plain": [
              "array([0.09090909, 0.18181818, 0.27272727, 0.36363636, 0.45454545,\n",
              "       0.54545455, 0.63636364, 0.72727273, 0.81818182, 0.90909091])"
            ]
          },
          "metadata": {},
          "execution_count": 13
        }
      ]
    },
    {
      "cell_type": "code",
      "source": [
        "#40. Create a random vector of size 10 and sort it \n",
        "c=np.random.random(10)\n",
        "c.sort()\n",
        "c"
      ],
      "metadata": {
        "id": "YyyLxYkSaUT6",
        "colab": {
          "base_uri": "https://localhost:8080/"
        },
        "outputId": "12f779ed-7a9d-4021-984c-32db093c683a"
      },
      "execution_count": null,
      "outputs": [
        {
          "output_type": "execute_result",
          "data": {
            "text/plain": [
              "array([0.25963669, 0.33887039, 0.35428975, 0.40464824, 0.41073605,\n",
              "       0.62103638, 0.63503483, 0.69389891, 0.84175695, 0.98800413])"
            ]
          },
          "metadata": {},
          "execution_count": 16
        }
      ]
    },
    {
      "cell_type": "code",
      "source": [
        "#41. How to sum a small array faster than np.sum? \n",
        "a=np.arange(10)\n",
        "np.add.reduce(a)"
      ],
      "metadata": {
        "id": "otbYD4p8aUW9",
        "colab": {
          "base_uri": "https://localhost:8080/"
        },
        "outputId": "2721f5e2-eb14-4831-e64b-38913dc7cd09"
      },
      "execution_count": null,
      "outputs": [
        {
          "output_type": "execute_result",
          "data": {
            "text/plain": [
              "45"
            ]
          },
          "metadata": {},
          "execution_count": 17
        }
      ]
    },
    {
      "cell_type": "code",
      "source": [
        "#42. Consider two random array A and B, check if they are equal\n",
        "A=np.random.randint(0,2,5)\n",
        "B=np.random.randint(0,2,5)\n",
        "equal = np.allclose(A,B)\n",
        "print(equal)"
      ],
      "metadata": {
        "id": "QpPCJ8G9aUaL",
        "colab": {
          "base_uri": "https://localhost:8080/"
        },
        "outputId": "d4ef313d-6eca-41e2-e8d1-ad2736dac718"
      },
      "execution_count": null,
      "outputs": [
        {
          "output_type": "stream",
          "name": "stdout",
          "text": [
            "False\n"
          ]
        }
      ]
    },
    {
      "cell_type": "code",
      "source": [
        "#43. Make an array immutable (read-only)\n",
        "a=np.zeros(10)\n",
        "a.flags.writeable=False\n"
      ],
      "metadata": {
        "id": "K9sozrGeaUcv"
      },
      "execution_count": null,
      "outputs": []
    },
    {
      "cell_type": "code",
      "source": [
        "#44. Consider a random 10x2 matrix representing cartesian coordinates, convert them to polar coordinates\n",
        "a=np.random.random((10,2))\n",
        "a\n",
        "X,Y = Z[:,0], Z[:,1]\n",
        "R = np.sqrt(X**2+Y**2)\n",
        "T = np.arctan2(Y,X)\n",
        "print(R)\n",
        "print(T)"
      ],
      "metadata": {
        "id": "CukeYBV6aUfs",
        "colab": {
          "base_uri": "https://localhost:8080/"
        },
        "outputId": "717f4e8a-6e67-4e6b-c559-dbc38fa52952"
      },
      "execution_count": null,
      "outputs": [
        {
          "output_type": "execute_result",
          "data": {
            "text/plain": [
              "array([[0.30921012, 0.16934021],\n",
              "       [0.37227925, 0.3519324 ],\n",
              "       [0.1470981 , 0.70695528],\n",
              "       [0.96713604, 0.49955795],\n",
              "       [0.46465865, 0.15293731],\n",
              "       [0.14333691, 0.65451653],\n",
              "       [0.0574587 , 0.83127655],\n",
              "       [0.80481757, 0.79603397],\n",
              "       [0.27216244, 0.54638195],\n",
              "       [0.34397884, 0.10114297]])"
            ]
          },
          "metadata": {},
          "execution_count": 7
        }
      ]
    },
    {
      "cell_type": "code",
      "source": [
        "#45. Create random vector of size 10 and replace the maximum value by 0\n",
        "a = np.random.random(10)\n",
        "a[a.argmax()] = 0\n",
        "print(a)"
      ],
      "metadata": {
        "id": "453R-5nFnnpL",
        "colab": {
          "base_uri": "https://localhost:8080/"
        },
        "outputId": "2cf180f7-5ab4-4955-a032-3dd3406a2c2e"
      },
      "execution_count": null,
      "outputs": [
        {
          "output_type": "stream",
          "name": "stdout",
          "text": [
            "[0.14613395 0.96131576 0.66903122 0.82759377 0.12749024 0.93979402\n",
            " 0.30951108 0.54783849 0.20289018 0.        ]\n"
          ]
        }
      ]
    },
    {
      "cell_type": "code",
      "source": [
        "#46. Create a structured array with x and y coordinates covering the [0,1]x[0,1] area \n",
        "a = np.zeros((5,5), [('b',float),('c',float)])\n",
        "a['b'], a['c'] = np.meshgrid(np.linspace(0,1,5),np.linspace(0,1,5))\n",
        "print(a)"
      ],
      "metadata": {
        "id": "5ca8Z6g3nnuf",
        "colab": {
          "base_uri": "https://localhost:8080/"
        },
        "outputId": "f5b82de7-f6cc-4d26-feaf-1d7575d67cd9"
      },
      "execution_count": null,
      "outputs": [
        {
          "output_type": "stream",
          "name": "stdout",
          "text": [
            "[[(0.  , 0.  ) (0.25, 0.  ) (0.5 , 0.  ) (0.75, 0.  ) (1.  , 0.  )]\n",
            " [(0.  , 0.25) (0.25, 0.25) (0.5 , 0.25) (0.75, 0.25) (1.  , 0.25)]\n",
            " [(0.  , 0.5 ) (0.25, 0.5 ) (0.5 , 0.5 ) (0.75, 0.5 ) (1.  , 0.5 )]\n",
            " [(0.  , 0.75) (0.25, 0.75) (0.5 , 0.75) (0.75, 0.75) (1.  , 0.75)]\n",
            " [(0.  , 1.  ) (0.25, 1.  ) (0.5 , 1.  ) (0.75, 1.  ) (1.  , 1.  )]]\n"
          ]
        }
      ]
    },
    {
      "cell_type": "code",
      "source": [
        "#47. Given two arrays, X and Y, construct the Cauchy matrix C (Cij =1/(xi - yj))\n",
        "a = np.arange(8)\n",
        "b = a + 0.5\n",
        "C = 1.0 / np.subtract.outer(a, b)\n",
        "print(np.linalg.det(C))"
      ],
      "metadata": {
        "id": "IqGYcZ_HnnxF",
        "colab": {
          "base_uri": "https://localhost:8080/"
        },
        "outputId": "a7afe0df-3d32-4b6a-8ab8-34f14c9deab8"
      },
      "execution_count": null,
      "outputs": [
        {
          "output_type": "stream",
          "name": "stdout",
          "text": [
            "3638.163637117973\n"
          ]
        }
      ]
    },
    {
      "cell_type": "code",
      "source": [
        "#48. Print the minimum and maximum representable value for each numpy scalar type\n",
        "for dtype in [np.int8, np.int32, np.int64]:\n",
        "   print(np.iinfo(dtype).min)\n",
        "   print(np.iinfo(dtype).max)\n",
        "for dtype in [np.float32, np.float64]:\n",
        "   print(np.finfo(dtype).min)\n",
        "   print(np.finfo(dtype).max)\n",
        "   print(np.finfo(dtype).eps)"
      ],
      "metadata": {
        "id": "7emDRb5wm92k",
        "colab": {
          "base_uri": "https://localhost:8080/"
        },
        "outputId": "66049254-2c3a-44b3-af7a-1d3f53134dda"
      },
      "execution_count": null,
      "outputs": [
        {
          "output_type": "stream",
          "name": "stdout",
          "text": [
            "-128\n",
            "127\n",
            "-2147483648\n",
            "2147483647\n",
            "-9223372036854775808\n",
            "9223372036854775807\n",
            "-3.4028235e+38\n",
            "3.4028235e+38\n",
            "1.1920929e-07\n",
            "-1.7976931348623157e+308\n",
            "1.7976931348623157e+308\n",
            "2.220446049250313e-16\n"
          ]
        }
      ]
    },
    {
      "cell_type": "code",
      "source": [
        "#49. How to print all the values of an array?\n",
        "np.set_printoptions(threshold=float(\"inf\"))\n",
        "b = np.zeros((10,10))\n",
        "print(b)"
      ],
      "metadata": {
        "id": "EnmbEevam99E",
        "colab": {
          "base_uri": "https://localhost:8080/"
        },
        "outputId": "22f5bffc-0ec2-41a4-e816-8b66f2e66b11"
      },
      "execution_count": null,
      "outputs": [
        {
          "output_type": "stream",
          "name": "stdout",
          "text": [
            "[[0. 0. 0. 0. 0. 0. 0. 0. 0. 0.]\n",
            " [0. 0. 0. 0. 0. 0. 0. 0. 0. 0.]\n",
            " [0. 0. 0. 0. 0. 0. 0. 0. 0. 0.]\n",
            " [0. 0. 0. 0. 0. 0. 0. 0. 0. 0.]\n",
            " [0. 0. 0. 0. 0. 0. 0. 0. 0. 0.]\n",
            " [0. 0. 0. 0. 0. 0. 0. 0. 0. 0.]\n",
            " [0. 0. 0. 0. 0. 0. 0. 0. 0. 0.]\n",
            " [0. 0. 0. 0. 0. 0. 0. 0. 0. 0.]\n",
            " [0. 0. 0. 0. 0. 0. 0. 0. 0. 0.]\n",
            " [0. 0. 0. 0. 0. 0. 0. 0. 0. 0.]]\n"
          ]
        }
      ]
    },
    {
      "cell_type": "code",
      "source": [
        "#50. How to find the closest value (to a given scalar) in a vector? \n",
        "x = np.arange(100)\n",
        "\n",
        "a = np.random.uniform(0,100)\n",
        "\n",
        "index = (np.abs(x-a)).argmin()\n",
        "print(x[index])"
      ],
      "metadata": {
        "id": "BdgNRqRum-BA",
        "colab": {
          "base_uri": "https://localhost:8080/"
        },
        "outputId": "bd650c9c-6c32-46c6-989f-14d450ea67ef"
      },
      "execution_count": null,
      "outputs": [
        {
          "output_type": "stream",
          "name": "stdout",
          "text": [
            "80\n"
          ]
        }
      ]
    },
    {
      "cell_type": "code",
      "source": [
        "#51.Create a structured array representing a position (x,y) and a color (r,g,b)\n",
        "a = np.zeros(10, [ ('position', [ ('x', float, 1),\n",
        "                                   ('y', float, 2)]),\n",
        "                    ('color',    [ ('r', float, 1),\n",
        "                                   ('g', float, 2),\n",
        "                                   ('b', float, 3)])])\n",
        "print(a)"
      ],
      "metadata": {
        "id": "4aGvYra9m-FK",
        "colab": {
          "base_uri": "https://localhost:8080/"
        },
        "outputId": "f35514a0-647c-4d22-d1ca-b0569fd3b9bc"
      },
      "execution_count": null,
      "outputs": [
        {
          "output_type": "stream",
          "name": "stdout",
          "text": [
            "[((0., [0., 0.]), (0., [0., 0.], [0., 0., 0.]))\n",
            " ((0., [0., 0.]), (0., [0., 0.], [0., 0., 0.]))\n",
            " ((0., [0., 0.]), (0., [0., 0.], [0., 0., 0.]))\n",
            " ((0., [0., 0.]), (0., [0., 0.], [0., 0., 0.]))\n",
            " ((0., [0., 0.]), (0., [0., 0.], [0., 0., 0.]))\n",
            " ((0., [0., 0.]), (0., [0., 0.], [0., 0., 0.]))\n",
            " ((0., [0., 0.]), (0., [0., 0.], [0., 0., 0.]))\n",
            " ((0., [0., 0.]), (0., [0., 0.], [0., 0., 0.]))\n",
            " ((0., [0., 0.]), (0., [0., 0.], [0., 0., 0.]))\n",
            " ((0., [0., 0.]), (0., [0., 0.], [0., 0., 0.]))]\n"
          ]
        },
        {
          "output_type": "stream",
          "name": "stderr",
          "text": [
            "/usr/local/lib/python3.7/dist-packages/ipykernel_launcher.py:6: FutureWarning: Passing (type, 1) or '1type' as a synonym of type is deprecated; in a future version of numpy, it will be understood as (type, (1,)) / '(1,)type'.\n",
            "  \n"
          ]
        }
      ]
    },
    {
      "cell_type": "code",
      "source": [
        "#52. Consider a random vector with shape (100,2) representing coordinates, find point by point distances\n",
        "Z = np.random.random((10,2))\n",
        "X,Y = np.atleast_2d(Z[:,0]), np.atleast_2d(Z[:,1])\n",
        "D = np.sqrt( (X-X.T)**2 + (Y-Y.T)**2)\n",
        "\n",
        "\n",
        "import scipy\n",
        "\n",
        "import scipy.spatial\n",
        "\n",
        "Z = np.random.random((10,2))\n",
        "D = scipy.spatial.distance.cdist(Z,Z)\n",
        "print(D)"
      ],
      "metadata": {
        "id": "R9xsn3amm-H8",
        "colab": {
          "base_uri": "https://localhost:8080/"
        },
        "outputId": "631391f3-64f6-42c4-da9c-b48de3832947"
      },
      "execution_count": null,
      "outputs": [
        {
          "output_type": "stream",
          "name": "stdout",
          "text": [
            "[[0.         0.22221928 0.73788956 0.74932129 0.75653087 0.85948013\n",
            "  0.67606673 0.57280394 0.90305363 0.4362161 ]\n",
            " [0.22221928 0.         0.62960732 0.58904158 0.55746846 0.78638194\n",
            "  0.73476851 0.3546565  0.98484658 0.37345714]\n",
            " [0.73788956 0.62960732 0.         0.19946773 0.3949826  0.19135785\n",
            "  0.52606333 0.51794095 0.73689164 0.30727657]\n",
            " [0.74932129 0.58904158 0.19946773 0.         0.19965223 0.37796518\n",
            "  0.70263782 0.3722979  0.92783678 0.37770187]\n",
            " [0.75653087 0.55746846 0.3949826  0.19965223 0.         0.57753095\n",
            "  0.86483367 0.24203601 1.10310516 0.48187155]\n",
            " [0.85948013 0.78638194 0.19135785 0.37796518 0.57753095 0.\n",
            "  0.46746433 0.70867271 0.62643068 0.4262885 ]\n",
            " [0.67606673 0.73476851 0.52606333 0.70263782 0.86483367 0.46746433\n",
            "  0.         0.86896808 0.25658915 0.42363213]\n",
            " [0.57280394 0.3546565  0.51794095 0.3722979  0.24203601 0.70867271\n",
            "  0.86896808 0.         1.12327709 0.44604429]\n",
            " [0.90305363 0.98484658 0.73689164 0.92783678 1.10310516 0.62643068\n",
            "  0.25658915 1.12327709 0.         0.67924815]\n",
            " [0.4362161  0.37345714 0.30727657 0.37770187 0.48187155 0.4262885\n",
            "  0.42363213 0.44604429 0.67924815 0.        ]]\n"
          ]
        }
      ]
    },
    {
      "cell_type": "code",
      "source": [
        "#53.How to convert a float (32 bits) array into an integer (32 bits) in place?\n",
        "a = np.arange(10, dtype=np.int32)\n",
        "a = a.astype(np.float32, copy=False)\n",
        "a"
      ],
      "metadata": {
        "id": "CORucxVhm-NT",
        "colab": {
          "base_uri": "https://localhost:8080/"
        },
        "outputId": "71d54869-5ff5-403c-e68b-3a0d37329ee4"
      },
      "execution_count": null,
      "outputs": [
        {
          "output_type": "execute_result",
          "data": {
            "text/plain": [
              "array([0., 1., 2., 3., 4., 5., 6., 7., 8., 9.], dtype=float32)"
            ]
          },
          "metadata": {},
          "execution_count": 17
        }
      ]
    },
    {
      "cell_type": "code",
      "source": [
        "#54. How to read the following file?\n",
        "1, 2, 3, 4, 5\n",
        "6,  ,  , 7, 8\n",
        " ,  , 9,10,11\n",
        "Z = np.genfromtxt(\"missing.dat\", delimiter=\",\")\n"
      ],
      "metadata": {
        "id": "Dfd7kA47m-Ps"
      },
      "execution_count": null,
      "outputs": []
    },
    {
      "cell_type": "code",
      "source": [
        "#55. What is the equivalent of enumerate for numpy arrays?\n",
        "b = np.arange(9).reshape(3,3)\n",
        "for index, value in np.ndenumerate(b):\n",
        "    print(index, value)\n",
        "for index in np.ndindex(b.shape):\n",
        "    print(index, b[index])"
      ],
      "metadata": {
        "id": "vxIVMqa0aUiP",
        "colab": {
          "base_uri": "https://localhost:8080/"
        },
        "outputId": "90e58d98-f1ac-4f61-b5ea-d0482bfbb8bb"
      },
      "execution_count": null,
      "outputs": [
        {
          "output_type": "stream",
          "name": "stdout",
          "text": [
            "(0, 0) 0\n",
            "(0, 1) 1\n",
            "(0, 2) 2\n",
            "(1, 0) 3\n",
            "(1, 1) 4\n",
            "(1, 2) 5\n",
            "(2, 0) 6\n",
            "(2, 1) 7\n",
            "(2, 2) 8\n",
            "(0, 0) 0\n",
            "(0, 1) 1\n",
            "(0, 2) 2\n",
            "(1, 0) 3\n",
            "(1, 1) 4\n",
            "(1, 2) 5\n",
            "(2, 0) 6\n",
            "(2, 1) 7\n",
            "(2, 2) 8\n"
          ]
        }
      ]
    },
    {
      "cell_type": "code",
      "source": [
        "#56. Generate a generic 2D Gaussian-like array\n",
        "x,y = np.meshgrid(np.linspace(-1,1,10), np.linspace(-1,1,10))\n",
        "D = np.sqrt(x*x+y*y)\n",
        "sigma, mu = 1.0, 0.0\n",
        "G = np.exp(-( (D-mu)**2 / ( 2.0 * sigma**2 ) ) )\n",
        "print(G)"
      ],
      "metadata": {
        "colab": {
          "base_uri": "https://localhost:8080/"
        },
        "id": "sFBHXKLPfkkc",
        "outputId": "9c9504aa-1a39-40a4-968e-894e2fbebadd"
      },
      "execution_count": null,
      "outputs": [
        {
          "output_type": "stream",
          "name": "stdout",
          "text": [
            "[[0.36787944 0.44822088 0.51979489 0.57375342 0.60279818 0.60279818\n",
            "  0.57375342 0.51979489 0.44822088 0.36787944]\n",
            " [0.44822088 0.54610814 0.63331324 0.69905581 0.73444367 0.73444367\n",
            "  0.69905581 0.63331324 0.54610814 0.44822088]\n",
            " [0.51979489 0.63331324 0.73444367 0.81068432 0.85172308 0.85172308\n",
            "  0.81068432 0.73444367 0.63331324 0.51979489]\n",
            " [0.57375342 0.69905581 0.81068432 0.89483932 0.9401382  0.9401382\n",
            "  0.89483932 0.81068432 0.69905581 0.57375342]\n",
            " [0.60279818 0.73444367 0.85172308 0.9401382  0.98773022 0.98773022\n",
            "  0.9401382  0.85172308 0.73444367 0.60279818]\n",
            " [0.60279818 0.73444367 0.85172308 0.9401382  0.98773022 0.98773022\n",
            "  0.9401382  0.85172308 0.73444367 0.60279818]\n",
            " [0.57375342 0.69905581 0.81068432 0.89483932 0.9401382  0.9401382\n",
            "  0.89483932 0.81068432 0.69905581 0.57375342]\n",
            " [0.51979489 0.63331324 0.73444367 0.81068432 0.85172308 0.85172308\n",
            "  0.81068432 0.73444367 0.63331324 0.51979489]\n",
            " [0.44822088 0.54610814 0.63331324 0.69905581 0.73444367 0.73444367\n",
            "  0.69905581 0.63331324 0.54610814 0.44822088]\n",
            " [0.36787944 0.44822088 0.51979489 0.57375342 0.60279818 0.60279818\n",
            "  0.57375342 0.51979489 0.44822088 0.36787944]]\n"
          ]
        }
      ]
    },
    {
      "cell_type": "code",
      "source": [
        "#57. How to randomly place p elements in a 2D array? \n",
        "n = 10\n",
        "p = 9\n",
        "e = np.zeros((n,n))\n",
        "np.put(e, np.random.choice(range(n*n), p, replace=False),1)\n",
        "print(e)"
      ],
      "metadata": {
        "colab": {
          "base_uri": "https://localhost:8080/"
        },
        "id": "0xeYmxI9fku8",
        "outputId": "5fb40b23-d9b1-4c81-db82-546f09b70eb3"
      },
      "execution_count": null,
      "outputs": [
        {
          "output_type": "stream",
          "name": "stdout",
          "text": [
            "[[0. 0. 0. 0. 0. 0. 0. 0. 0. 0.]\n",
            " [0. 0. 1. 0. 1. 0. 0. 0. 0. 0.]\n",
            " [0. 0. 0. 0. 0. 1. 0. 0. 0. 0.]\n",
            " [0. 0. 0. 0. 0. 1. 0. 0. 0. 0.]\n",
            " [0. 0. 0. 0. 0. 0. 0. 0. 0. 0.]\n",
            " [0. 0. 1. 0. 0. 0. 0. 0. 0. 0.]\n",
            " [0. 0. 0. 0. 0. 0. 0. 0. 1. 0.]\n",
            " [0. 0. 0. 0. 0. 0. 1. 0. 0. 0.]\n",
            " [0. 0. 0. 1. 0. 0. 0. 0. 0. 0.]\n",
            " [0. 0. 1. 0. 0. 0. 0. 0. 0. 0.]]\n"
          ]
        }
      ]
    },
    {
      "cell_type": "code",
      "source": [
        "#58. Subtract the mean of each row of a matrix\n",
        "a=np.random.rand(5,7)\n",
        "b = b - b.mean(axis=1, keepdims=True)\n",
        "b"
      ],
      "metadata": {
        "colab": {
          "base_uri": "https://localhost:8080/"
        },
        "id": "USsvWPJsfkyS",
        "outputId": "7bf479d6-e9d9-47fc-c8e8-8e4e6d041f0f"
      },
      "execution_count": null,
      "outputs": [
        {
          "output_type": "execute_result",
          "data": {
            "text/plain": [
              "array([[-1.,  0.,  1.],\n",
              "       [-1.,  0.,  1.],\n",
              "       [-1.,  0.,  1.]])"
            ]
          },
          "metadata": {},
          "execution_count": 6
        }
      ]
    },
    {
      "cell_type": "code",
      "source": [
        "#59. How to sort an array by the nth column? \n",
        "a = np.random.randint(0,5,(4,4))\n",
        "print(a)\n",
        "print(a[a[:,1].argsort()])"
      ],
      "metadata": {
        "colab": {
          "base_uri": "https://localhost:8080/"
        },
        "id": "rooVcojWfk1p",
        "outputId": "ef66f826-94ee-45f2-b4cd-278f4fcb4c72"
      },
      "execution_count": null,
      "outputs": [
        {
          "output_type": "stream",
          "name": "stdout",
          "text": [
            "[[2 1 4 1]\n",
            " [3 2 4 2]\n",
            " [2 4 4 1]\n",
            " [0 2 3 1]]\n",
            "[[2 1 4 1]\n",
            " [3 2 4 2]\n",
            " [0 2 3 1]\n",
            " [2 4 4 1]]\n"
          ]
        }
      ]
    },
    {
      "cell_type": "code",
      "source": [
        "#60. How to tell if a given 2D array has null columns?\n",
        "a = np.random.randint(0,3,(3,3))\n",
        "print((~a.any(axis=0)).any())"
      ],
      "metadata": {
        "colab": {
          "base_uri": "https://localhost:8080/"
        },
        "id": "IL9FLN8GglDv",
        "outputId": "7f5d540c-f4d0-46e2-9410-0e733137dc29"
      },
      "execution_count": null,
      "outputs": [
        {
          "output_type": "stream",
          "name": "stdout",
          "text": [
            "False\n"
          ]
        }
      ]
    },
    {
      "cell_type": "code",
      "source": [
        "#61. Find the nearest value from a given value in an array \n",
        "a = np.random.uniform(0,1,5)\n",
        "b = 0.5\n",
        "m = a.flat[np.abs(a - b).argmin()]\n",
        "print(m)"
      ],
      "metadata": {
        "colab": {
          "base_uri": "https://localhost:8080/"
        },
        "id": "0loviOhzglLY",
        "outputId": "8227fd71-0687-42e5-db67-d1b4813924c5"
      },
      "execution_count": null,
      "outputs": [
        {
          "output_type": "stream",
          "name": "stdout",
          "text": [
            "0.4658126680557123\n"
          ]
        }
      ]
    },
    {
      "cell_type": "code",
      "source": [
        "#62. Considering two arrays with shape (1,3) and (3,1), how to compute their sum using an iterator?\n",
        "A = np.arange(3).reshape(3,1)\n",
        "B = np.arange(3).reshape(1,3)\n",
        "it = np.nditer([A,B,None])\n",
        "for x,y,z in it: z[...] = x + y\n",
        "print(it.operands[2])"
      ],
      "metadata": {
        "colab": {
          "base_uri": "https://localhost:8080/"
        },
        "id": "r4mnJrT6glTu",
        "outputId": "94e6e6f1-9d4e-4dc7-97e5-8ee392e1de32"
      },
      "execution_count": null,
      "outputs": [
        {
          "output_type": "stream",
          "name": "stdout",
          "text": [
            "[[0 1 2]\n",
            " [1 2 3]\n",
            " [2 3 4]]\n"
          ]
        }
      ]
    },
    {
      "cell_type": "code",
      "source": [
        "#63. Create an array class that has a name attribute\n",
        "class name_arr(np.ndarray):\n",
        "  def __new__(cls,array,name=\"no name\"):\n",
        "      obj = np.asarray(array).view(cls)\n",
        "      obj.name = name\n",
        "      return obj\n",
        "  def __array_finalize__(self, obj):\n",
        "      if obj is None: return\n",
        "      self.info = getattr(obj, 'name', \"no name\")\n",
        "Z = name_arr(np.arange(10), \"range_10\")\n",
        "print (Z.name)"
      ],
      "metadata": {
        "colab": {
          "base_uri": "https://localhost:8080/"
        },
        "id": "iaKE3aqDglcG",
        "outputId": "401b2acf-0685-46b6-ae6d-a31819219606"
      },
      "execution_count": null,
      "outputs": [
        {
          "output_type": "stream",
          "name": "stdout",
          "text": [
            "range_10\n"
          ]
        }
      ]
    },
    {
      "cell_type": "code",
      "source": [
        "#64. Consider a given vector, how to add 1 to each element indexed by a second vector (be careful with repeated indices)?\n",
        "B = np.ones(10)\n",
        "C = np.random.randint(0,len(B),20)\n",
        "np.add.at(B, C, 1)\n",
        "print(Z)"
      ],
      "metadata": {
        "colab": {
          "base_uri": "https://localhost:8080/"
        },
        "id": "Cpw2shP_glkO",
        "outputId": "96601d1f-7dd0-42fb-d5a0-86826f1e7a09"
      },
      "execution_count": null,
      "outputs": [
        {
          "output_type": "stream",
          "name": "stdout",
          "text": [
            "[1. 1. 1. 1. 1. 1. 1. 1. 1. 1.]\n"
          ]
        }
      ]
    },
    {
      "cell_type": "code",
      "source": [
        "#65. How to accumulate elements of a vector (X) to an array (F) based on an index list (I)? \n",
        "X = [1,2,3,4,5,6]\n",
        "I = [1,3,9,3,4,1]\n",
        "F = np.bincount(I,X)\n",
        "print(F)"
      ],
      "metadata": {
        "colab": {
          "base_uri": "https://localhost:8080/"
        },
        "id": "jcf662b_glr8",
        "outputId": "5dc4ab5d-1569-4e60-9dd5-5bca5a03e7b3"
      },
      "execution_count": null,
      "outputs": [
        {
          "output_type": "stream",
          "name": "stdout",
          "text": [
            "[0. 7. 0. 6. 5. 0. 0. 0. 0. 3.]\n"
          ]
        }
      ]
    },
    {
      "cell_type": "code",
      "source": [
        "#66. Considering a (w,h,3) image of (dtype=ubyte), compute the number of unique colors\n",
        "w, h = 200, 256\n",
        "I = np.random.randint(0, 4, (h, w, 3)).astype(np.ubyte)\n",
        "colors = np.unique(I.reshape(-1, 3), axis=0)\n",
        "n = len(colors)\n",
        "print(n)\n"
      ],
      "metadata": {
        "colab": {
          "base_uri": "https://localhost:8080/"
        },
        "id": "RuEftFMhglzg",
        "outputId": "62747a28-79b8-45aa-fbe8-4082987bfb8e"
      },
      "execution_count": null,
      "outputs": [
        {
          "output_type": "stream",
          "name": "stdout",
          "text": [
            "64\n"
          ]
        }
      ]
    },
    {
      "cell_type": "code",
      "source": [
        "#67. Considering a four dimensions array, how to get sum over the last two axis at once? \n",
        "A = np.random.randint(0,10,(3,4,3,4))\n",
        "sum = A.sum(axis=(-2,-1))\n",
        "print(sum)"
      ],
      "metadata": {
        "colab": {
          "base_uri": "https://localhost:8080/"
        },
        "id": "-3UkTbzJgmTh",
        "outputId": "79a7f145-2874-4084-a232-424e78cc3528"
      },
      "execution_count": null,
      "outputs": [
        {
          "output_type": "stream",
          "name": "stdout",
          "text": [
            "[[43 48 50 64]\n",
            " [56 52 58 66]\n",
            " [59 48 65 48]]\n"
          ]
        }
      ]
    },
    {
      "cell_type": "code",
      "source": [
        "#68. Considering a one-dimensional vector D, how to compute means of subsets of D using a vector S of same size describing subset indices?\n",
        "D = np.random.uniform(0,1,50)\n",
        "S = np.random.randint(0,10,50)\n",
        "D_sum = np.bincount(S, weights=D)\n",
        "D_count = np.bincount(S)\n",
        "D_mean = D_sum / D_count\n",
        "print(D_mean)"
      ],
      "metadata": {
        "colab": {
          "base_uri": "https://localhost:8080/"
        },
        "id": "S_dr5xRYgmbp",
        "outputId": "2610a197-502e-4f19-ad4d-8210812c6df6"
      },
      "execution_count": null,
      "outputs": [
        {
          "output_type": "stream",
          "name": "stdout",
          "text": [
            "[0.66741929 0.55562707 0.37802091 0.62697899 0.39700444 0.62981394\n",
            " 0.59478318 0.45154593 0.33828899 0.48679343]\n"
          ]
        }
      ]
    },
    {
      "cell_type": "code",
      "source": [
        "#69. How to get the diagonal of a dot product?\n",
        "A = np.random.uniform(0,1,(4,4))\n",
        "B = np.random.uniform(0,1,(4,4))\n",
        "np.sum(A * B.T, axis=1)"
      ],
      "metadata": {
        "colab": {
          "base_uri": "https://localhost:8080/"
        },
        "id": "uQxEfBx9gmju",
        "outputId": "df73059a-b812-456e-ab0f-c3382d333af4"
      },
      "execution_count": null,
      "outputs": [
        {
          "output_type": "execute_result",
          "data": {
            "text/plain": [
              "array([0.11349827, 1.21001262, 1.71666411, 0.34475691])"
            ]
          },
          "metadata": {},
          "execution_count": 25
        }
      ]
    },
    {
      "cell_type": "code",
      "source": [
        "#70. Consider the vector [1, 2, 3, 4, 5], how to build a new vector with 3 consecutive zeros interleaved between each value?\n",
        "Z = np.array([1,2,3,4,5])\n",
        "nz = 3\n",
        "Z0 = np.zeros(len(Z) + (len(Z)-1)*(nz))\n",
        "Z0[::nz+1] = Z\n",
        "print(Z0)"
      ],
      "metadata": {
        "colab": {
          "base_uri": "https://localhost:8080/"
        },
        "id": "nbPsORJ0gmqB",
        "outputId": "3ab95670-0b09-4080-cdb1-6b64f30e1c58"
      },
      "execution_count": null,
      "outputs": [
        {
          "output_type": "stream",
          "name": "stdout",
          "text": [
            "[1. 0. 0. 0. 2. 0. 0. 0. 3. 0. 0. 0. 4. 0. 0. 0. 5.]\n"
          ]
        }
      ]
    },
    {
      "cell_type": "code",
      "source": [
        "#71. Consider an array of dimension (5,5,3), how to mulitply it by an array with dimensions (5,5)?\n",
        "A = np.ones((5,5,3))\n",
        "B = 2*np.ones((5,5))\n",
        "print(A * B[:,:,None])"
      ],
      "metadata": {
        "colab": {
          "base_uri": "https://localhost:8080/"
        },
        "id": "Kt_Mnu-Bgmxz",
        "outputId": "7bafa893-f68a-4a76-f142-a0e12e5dfedb"
      },
      "execution_count": null,
      "outputs": [
        {
          "output_type": "stream",
          "name": "stdout",
          "text": [
            "[[[2. 2. 2.]\n",
            "  [2. 2. 2.]\n",
            "  [2. 2. 2.]\n",
            "  [2. 2. 2.]\n",
            "  [2. 2. 2.]]\n",
            "\n",
            " [[2. 2. 2.]\n",
            "  [2. 2. 2.]\n",
            "  [2. 2. 2.]\n",
            "  [2. 2. 2.]\n",
            "  [2. 2. 2.]]\n",
            "\n",
            " [[2. 2. 2.]\n",
            "  [2. 2. 2.]\n",
            "  [2. 2. 2.]\n",
            "  [2. 2. 2.]\n",
            "  [2. 2. 2.]]\n",
            "\n",
            " [[2. 2. 2.]\n",
            "  [2. 2. 2.]\n",
            "  [2. 2. 2.]\n",
            "  [2. 2. 2.]\n",
            "  [2. 2. 2.]]\n",
            "\n",
            " [[2. 2. 2.]\n",
            "  [2. 2. 2.]\n",
            "  [2. 2. 2.]\n",
            "  [2. 2. 2.]\n",
            "  [2. 2. 2.]]]\n"
          ]
        }
      ]
    },
    {
      "cell_type": "code",
      "source": [
        "#72. How to swap two rows of an array?\n",
        "B = np.arange(25).reshape(5,5)\n",
        "B[[0,1]] = B[[1,0]]\n",
        "print(B)"
      ],
      "metadata": {
        "colab": {
          "base_uri": "https://localhost:8080/"
        },
        "id": "gw0lceOIgm5T",
        "outputId": "e59ba898-c023-4153-c5cf-291c9a9a3456"
      },
      "execution_count": null,
      "outputs": [
        {
          "output_type": "stream",
          "name": "stdout",
          "text": [
            "[[ 5  6  7  8  9]\n",
            " [ 0  1  2  3  4]\n",
            " [10 11 12 13 14]\n",
            " [15 16 17 18 19]\n",
            " [20 21 22 23 24]]\n"
          ]
        }
      ]
    },
    {
      "cell_type": "code",
      "source": [
        "#73. Consider a set of 10 triplets describing 10 triangles (with shared vertices), find the set of unique line segments composing all the triangles \n",
        "faces = np.random.randint(0,100,(10,3))\n",
        "f = np.roll(faces.repeat(2,axis=1),-1,axis=1)\n",
        "f = F.reshape(len(f)*3,2)\n",
        "f = np.sort(f,axis=1)\n",
        "G = f.view( dtype=[('p0',f.dtype),('p1',f.dtype)] )\n",
        "G = np.unique(G)\n",
        "print(G)"
      ],
      "metadata": {
        "colab": {
          "base_uri": "https://localhost:8080/"
        },
        "id": "cXxNVavdgnAd",
        "outputId": "df15bd7f-9f3c-4bbc-9eb8-ae1ed543809a"
      },
      "execution_count": null,
      "outputs": [
        {
          "output_type": "stream",
          "name": "stdout",
          "text": [
            "[( 0, 20) ( 0, 42) ( 5, 85) ( 5, 91) ( 9, 18) ( 9, 62) (10, 30) (10, 67)\n",
            " (11, 19) (11, 63) (14, 51) (14, 99) (18, 19) (18, 62) (18, 94) (19, 63)\n",
            " (19, 77) (19, 94) (19, 96) (20, 42) (21, 51) (21, 92) (30, 67) (51, 92)\n",
            " (51, 99) (58, 75) (58, 90) (75, 90) (77, 96) (85, 91)]\n"
          ]
        }
      ]
    },
    {
      "cell_type": "code",
      "source": [
        "#74. Given an array C that is a bincount, how to produce an array A such that np.bincount(A) == C? \n",
        "C = np.bincount([1,1,2,3,4,4,6])\n",
        "A = np.repeat(np.arange(len(C)), C)\n",
        "print(A)"
      ],
      "metadata": {
        "id": "ZHGQunitgnHn",
        "colab": {
          "base_uri": "https://localhost:8080/"
        },
        "outputId": "fcff089a-ce47-4991-a6e6-fa094763f97d"
      },
      "execution_count": null,
      "outputs": [
        {
          "output_type": "stream",
          "name": "stdout",
          "text": [
            "[1 1 2 3 4 4 6]\n"
          ]
        }
      ]
    },
    {
      "cell_type": "code",
      "source": [
        "#75. How to compute averages using a sliding window over an array? \n",
        "from numpy.lib.stride_tricks import sliding_window_view\n",
        "Z = np.arange(20)\n",
        "print(sliding_window_view(Z, window_shape=3).mean(axis=-1))"
      ],
      "metadata": {
        "id": "T6jCyqeCgnPC",
        "colab": {
          "base_uri": "https://localhost:8080/"
        },
        "outputId": "21f2a001-fcfd-4135-9b90-5db207250447"
      },
      "execution_count": null,
      "outputs": [
        {
          "output_type": "stream",
          "name": "stdout",
          "text": [
            "[ 1.  2.  3.  4.  5.  6.  7.  8.  9. 10. 11. 12. 13. 14. 15. 16. 17. 18.]\n"
          ]
        }
      ]
    },
    {
      "cell_type": "code",
      "source": [
        "#76. Consider a one-dimensional array Z, build a two-dimensional array whose first row is (Z[0],Z[1],Z[2]) and each subsequent row is shifted by 1 (last row should be (Z[-3],Z[-2],Z[-1])\n",
        "Z = np.arange(10)\n",
        "print(sliding_window_view(Z, window_shape=3))"
      ],
      "metadata": {
        "id": "QnSiYJDXgnXP",
        "colab": {
          "base_uri": "https://localhost:8080/"
        },
        "outputId": "c0223679-e595-43f9-c396-0c2c693fd34c"
      },
      "execution_count": null,
      "outputs": [
        {
          "output_type": "stream",
          "name": "stdout",
          "text": [
            "[[0 1 2]\n",
            " [1 2 3]\n",
            " [2 3 4]\n",
            " [3 4 5]\n",
            " [4 5 6]\n",
            " [5 6 7]\n",
            " [6 7 8]\n",
            " [7 8 9]]\n"
          ]
        }
      ]
    },
    {
      "cell_type": "code",
      "source": [
        "#77. How to negate a boolean, or to change the sign of a float inplace?\n",
        "Z = np.random.randint(0,2,100)\n",
        "np.logical_not(Z, out=Z)\n",
        "\n",
        "Z = np.random.uniform(-1.0,1.0,100)\n",
        "np.negative(Z, out=Z)"
      ],
      "metadata": {
        "id": "lDPCwMdfgne8",
        "colab": {
          "base_uri": "https://localhost:8080/"
        },
        "outputId": "24e48f1a-f259-45d4-a4bd-428872abc4be"
      },
      "execution_count": null,
      "outputs": [
        {
          "output_type": "execute_result",
          "data": {
            "text/plain": [
              "array([-0.41215926, -0.50560498, -0.03853318, -0.26627853, -0.17481141,\n",
              "        0.67010389,  0.67247188,  0.03130057, -0.70920829, -0.11950305,\n",
              "        0.09617326, -0.20422593,  0.47545559,  0.91508462, -0.4268526 ,\n",
              "        0.24423094, -0.42512063, -0.61881179, -0.98359883,  0.18974886,\n",
              "       -0.72696628,  0.00770053, -0.64699292, -0.17722491,  0.3605433 ,\n",
              "        0.3039466 , -0.14493983, -0.68221637, -0.99548587, -0.37132367,\n",
              "        0.93733042, -0.02543925,  0.36282978,  0.87576071,  0.04691622,\n",
              "        0.30898754, -0.84237417, -0.30041727, -0.61895746,  0.8478783 ,\n",
              "        0.4631858 ,  0.79730422, -0.54934773, -0.191083  , -0.27668723,\n",
              "       -0.47502832,  0.15112509, -0.86707514,  0.71663135,  0.51076175,\n",
              "        0.49367118,  0.92113419,  0.06130875,  0.59680618,  0.82028537,\n",
              "        0.96922676,  0.96449676,  0.57278926, -0.91650105,  0.51919926,\n",
              "       -0.06915096,  0.24669791,  0.17229722, -0.2305538 ,  0.95207286,\n",
              "       -0.57412663,  0.79862602, -0.61792198,  0.4168146 ,  0.71822599,\n",
              "       -0.06949798,  0.31141339, -0.08512767,  0.21817729,  0.63295675,\n",
              "        0.82393489, -0.81048653, -0.30636598, -0.13781921,  0.12492675,\n",
              "        0.39407588, -0.90137697,  0.59515175,  0.38895344,  0.82904774,\n",
              "        0.02954994,  0.12081145,  0.03811814, -0.3081785 , -0.23667557,\n",
              "       -0.43979551,  0.93119549,  0.5631849 , -0.08552041,  0.81452141,\n",
              "        0.52357332,  0.18311655, -0.59459032,  0.03052489,  0.18543719])"
            ]
          },
          "metadata": {},
          "execution_count": 40
        }
      ]
    },
    {
      "cell_type": "code",
      "source": [
        "#78. Consider 2 sets of points P0,P1 describing lines (2d) and a point p, how to compute distance from p to each line i (P0[i],P1[i])?\n",
        "def distance(P0, P1, p):\n",
        "    T = P1 - P0\n",
        "    L = (T**2).sum(axis=1)\n",
        "    U = -((P0[:,0]-p[...,0])*T[:,0] + (P0[:,1]-p[...,1])*T[:,1]) / L\n",
        "    U = U.reshape(len(U),1)\n",
        "    D = P0 + U*T - p\n",
        "    return np.sqrt((D**2).sum(axis=1))\n",
        "P0 = np.random.uniform(-10,10,(10,2))\n",
        "P1 = np.random.uniform(-10,10,(10,2))\n",
        "p  = np.random.uniform(-10,10,( 1,2))\n",
        "print(distance(P0, P1, p))"
      ],
      "metadata": {
        "id": "LT228fivgnmJ",
        "colab": {
          "base_uri": "https://localhost:8080/"
        },
        "outputId": "44285bc3-fcec-41e2-a8a8-492c26cd2e0f"
      },
      "execution_count": null,
      "outputs": [
        {
          "output_type": "stream",
          "name": "stdout",
          "text": [
            "[13.7603514   8.57819819  8.66735786  3.51934139  2.22472858 11.73878252\n",
            " 12.8181284  10.92226555  2.91822921  2.12113835]\n"
          ]
        }
      ]
    },
    {
      "cell_type": "code",
      "source": [
        "#79. Consider 2 sets of points P0,P1 describing lines (2d) and a set of points P, how to compute distance from each point j (P[j]) to each line i (P0[i],P1[i])?\n",
        "P0 = np.random.uniform(-10, 10, (10,2))\n",
        "P1 = np.random.uniform(-10,10,(10,2))\n",
        "p = np.random.uniform(-10, 10, (10,2))\n",
        "print(np.array([distance(P0,P1,p_i) for p_i in p]))"
      ],
      "metadata": {
        "id": "yK9oWeXogntJ",
        "colab": {
          "base_uri": "https://localhost:8080/"
        },
        "outputId": "feaba040-881b-4261-e4e2-27f8cddf1ed1"
      },
      "execution_count": null,
      "outputs": [
        {
          "output_type": "stream",
          "name": "stdout",
          "text": [
            "[[8.73512219e+00 7.56792990e+00 5.08903540e+00 7.82281038e+00\n",
            "  7.85538707e+00 7.83765251e+00 7.19712200e+00 3.22451970e+00\n",
            "  4.19386350e+00 9.03145041e-01]\n",
            " [3.71189725e+00 8.69798426e+00 2.00152983e+00 1.12156954e+00\n",
            "  1.03043308e+01 3.26163465e-01 6.33681446e+00 7.54631301e-01\n",
            "  3.29575161e+00 3.22205597e+00]\n",
            " [4.74944962e+00 1.94114288e+01 8.55237421e-01 5.32076261e+00\n",
            "  2.06814426e+01 2.60899983e-01 1.69092139e+01 1.02373565e+01\n",
            "  3.19050633e+00 6.75598599e+00]\n",
            " [5.70833963e+00 7.59634615e+00 2.79631701e-01 2.63787845e+00\n",
            "  8.86796299e+00 2.41790782e+00 5.78836287e+00 1.03275702e+00\n",
            "  1.26124771e+00 3.32874860e+00]\n",
            " [1.15074345e+01 2.50342210e+00 1.54183727e+00 3.71463400e+00\n",
            "  3.35236430e+00 5.90129955e+00 1.61221250e+00 6.82195880e+00\n",
            "  1.91503817e+00 6.62192586e+00]\n",
            " [3.56236521e+00 8.63058374e+00 2.38234732e+00 7.44466618e-01\n",
            "  1.03055278e+01 3.58189302e-02 6.17333097e+00 8.41198957e-01\n",
            "  3.66460030e+00 3.45032110e+00]\n",
            " [8.35273899e+00 5.15062607e+00 3.43760744e-01 2.91206743e+00\n",
            "  6.26531256e+00 3.83742690e+00 3.71573202e+00 3.71156506e+00\n",
            "  9.05419739e-03 5.02481738e+00]\n",
            " [1.81327966e+00 7.17182657e+00 7.96299448e+00 4.84497832e+00\n",
            "  9.84379883e+00 5.18805262e+00 3.34630604e+00 1.64224438e+00\n",
            "  8.94702523e+00 7.17682905e+00]\n",
            " [5.13364490e+00 1.85580743e+01 1.26588898e+00 3.15616802e+00\n",
            "  2.02018248e+01 2.12248894e+00 1.55610354e+01 1.02451381e+01\n",
            "  5.12034280e+00 5.09756027e+00]\n",
            " [1.01873027e+00 7.72111011e+00 8.46205393e+00 5.25357733e+00\n",
            "  1.04941139e+01 5.86871509e+00 3.71584096e+00 2.38857396e+00\n",
            "  9.59665964e+00 6.95967066e+00]]\n"
          ]
        }
      ]
    },
    {
      "cell_type": "code",
      "source": [
        "#80. Consider an arbitrary array, write a function that extract a subpart with a fixed shape and centered on a given element (pad with a fill value when necessary)\n",
        "Z = np.random.randint(0,10,(10,10))\n",
        "shape = (5,5)\n",
        "fill  = 0\n",
        "position = (1,1)\n",
        "R = np.ones(shape, dtype=Z.dtype)*fill\n",
        "P  = np.array(list(position)).astype(int)\n",
        "Rs = np.array(list(R.shape)).astype(int)\n",
        "Zs = np.array(list(Z.shape)).astype(int)\n",
        "R_start = np.zeros((len(shape),)).astype(int)\n",
        "R_stop  = np.array(list(shape)).astype(int)\n",
        "Z_start = (P-Rs//2)\n",
        "Z_stop  = (P+Rs//2)+Rs%2\n",
        "R_start = (R_start - np.minimum(Z_start,0)).tolist()\n",
        "Z_start = (np.maximum(Z_start,0)).tolist()\n",
        "R_stop = np.maximum(R_start, (R_stop - np.maximum(Z_stop-Zs,0))).tolist()\n",
        "Z_stop = (np.minimum(Z_stop,Zs)).tolist()\n",
        "r = [slice(start,stop) for start,stop in zip(R_start,R_stop)]\n",
        "z = [slice(start,stop) for start,stop in zip(Z_start,Z_stop)]\n",
        "R[r] = Z[z]\n",
        "print(Z)\n",
        "print(R)"
      ],
      "metadata": {
        "id": "t4ALkAv1gnzm",
        "colab": {
          "base_uri": "https://localhost:8080/"
        },
        "outputId": "8f925c71-88cf-4443-b47e-bc375b00ac90"
      },
      "execution_count": null,
      "outputs": [
        {
          "output_type": "stream",
          "name": "stdout",
          "text": [
            "[[0 0 7 1 7 2 0 3 4 0]\n",
            " [8 3 2 5 4 2 9 0 4 0]\n",
            " [3 4 9 7 4 9 4 9 9 5]\n",
            " [6 4 5 3 9 6 7 9 7 9]\n",
            " [2 9 4 8 6 3 6 1 6 2]\n",
            " [8 3 6 0 5 1 1 5 4 4]\n",
            " [4 3 7 3 4 8 6 0 9 1]\n",
            " [2 0 6 4 5 8 6 9 6 3]\n",
            " [2 2 0 1 0 4 1 0 2 6]\n",
            " [1 2 0 2 1 8 6 9 3 2]]\n",
            "[[0 0 0 0 0]\n",
            " [0 0 0 7 1]\n",
            " [0 8 3 2 5]\n",
            " [0 3 4 9 7]\n",
            " [0 6 4 5 3]]\n"
          ]
        },
        {
          "output_type": "stream",
          "name": "stderr",
          "text": [
            "/usr/local/lib/python3.7/dist-packages/ipykernel_launcher.py:20: FutureWarning: Using a non-tuple sequence for multidimensional indexing is deprecated; use `arr[tuple(seq)]` instead of `arr[seq]`. In the future this will be interpreted as an array index, `arr[np.array(seq)]`, which will result either in an error or a different result.\n"
          ]
        }
      ]
    },
    {
      "cell_type": "code",
      "source": [
        "#81. Consider an array Z = [1,2,3,4,5,6,7,8,9,10,11,12,13,14], how to generate an array R = [[1,2,3,4], [2,3,4,5], [3,4,5,6], ..., [11,12,13,14]]?\n",
        "from numpy.lib.stride_tricks import sliding_window_view\n",
        "Z= np.arange(1,15,dtype=np.uint32)\n",
        "print(sliding_window_view(Z, window_shape=4))"
      ],
      "metadata": {
        "id": "H1R9wDLMgn6o",
        "colab": {
          "base_uri": "https://localhost:8080/"
        },
        "outputId": "b7a6c035-9705-4f46-f442-e4f2c65e79e2"
      },
      "execution_count": null,
      "outputs": [
        {
          "output_type": "stream",
          "name": "stdout",
          "text": [
            "[[ 1  2  3  4]\n",
            " [ 2  3  4  5]\n",
            " [ 3  4  5  6]\n",
            " [ 4  5  6  7]\n",
            " [ 5  6  7  8]\n",
            " [ 6  7  8  9]\n",
            " [ 7  8  9 10]\n",
            " [ 8  9 10 11]\n",
            " [ 9 10 11 12]\n",
            " [10 11 12 13]\n",
            " [11 12 13 14]]\n"
          ]
        }
      ]
    },
    {
      "cell_type": "code",
      "source": [
        "#82. Compute a matrix rank\n",
        "Z = np.random.uniform(0,1,(10,10))\n",
        "Z\n",
        "U, S, V = np.linalg.svd(Z) \n",
        "rank = np.sum(S > 1e-10)\n",
        "print(rank)"
      ],
      "metadata": {
        "id": "fMdXYliJgoAr",
        "colab": {
          "base_uri": "https://localhost:8080/"
        },
        "outputId": "f5d7348b-8f62-4a1c-846f-01b29ceea906"
      },
      "execution_count": null,
      "outputs": [
        {
          "output_type": "stream",
          "name": "stdout",
          "text": [
            "10\n"
          ]
        }
      ]
    },
    {
      "cell_type": "code",
      "source": [
        "#83. How to find the most frequent value in an array?\n",
        "Z = np.random.randint(0,10,50)\n",
        "print(np.bincount(Z).argmax())"
      ],
      "metadata": {
        "id": "x8zEv0y7goHr",
        "colab": {
          "base_uri": "https://localhost:8080/"
        },
        "outputId": "757c0255-4119-4508-e066-bfd8d1a571c5"
      },
      "execution_count": null,
      "outputs": [
        {
          "output_type": "stream",
          "name": "stdout",
          "text": [
            "5\n"
          ]
        }
      ]
    },
    {
      "cell_type": "code",
      "source": [
        "#84. Extract all the contiguous 3x3 blocks from a random 10x10 matrix\n",
        "from numpy.lib.stride_tricks import sliding_window_view\n",
        "Z = np.random.randint(0,5,(4,4))\n",
        "print(sliding_window_view(Z, window_shape=(3, 3)))\n"
      ],
      "metadata": {
        "id": "VeUafY-bgoOz",
        "colab": {
          "base_uri": "https://localhost:8080/"
        },
        "outputId": "21ba0ac3-2f25-426d-ccba-2bc92f930cd6"
      },
      "execution_count": null,
      "outputs": [
        {
          "output_type": "stream",
          "name": "stdout",
          "text": [
            "[[[[4 3 2]\n",
            "   [1 3 0]\n",
            "   [1 3 3]]\n",
            "\n",
            "  [[3 2 0]\n",
            "   [3 0 1]\n",
            "   [3 3 4]]]\n",
            "\n",
            "\n",
            " [[[1 3 0]\n",
            "   [1 3 3]\n",
            "   [1 2 0]]\n",
            "\n",
            "  [[3 0 1]\n",
            "   [3 3 4]\n",
            "   [2 0 4]]]]\n"
          ]
        }
      ]
    },
    {
      "cell_type": "code",
      "source": [
        "#85. Create a 2D array subclass such that Z[i,j] == Z[j,i]\n",
        "class Symetric(np.ndarray):\n",
        "    def __setitem__(self, index, value):\n",
        "        i,j = index\n",
        "        super(Symetric, self).__setitem__((i,j), value)\n",
        "        super(Symetric, self).__setitem__((j,i), value)\n",
        "\n",
        "def symetric(Z):\n",
        "    return np.asarray(Z + Z.T - np.diag(Z.diagonal())).view(Symetric)\n",
        "\n",
        "S = symetric(np.random.randint(0,10,(5,5)))\n",
        "S[2,3] = 42\n",
        "print(S)"
      ],
      "metadata": {
        "id": "FiKikXhTgoVw",
        "colab": {
          "base_uri": "https://localhost:8080/"
        },
        "outputId": "0639a40b-7b85-4e22-bfde-136e7b2822ac"
      },
      "execution_count": null,
      "outputs": [
        {
          "output_type": "stream",
          "name": "stdout",
          "text": [
            "[[ 5  7  9  7 16]\n",
            " [ 7  6  8 10 14]\n",
            " [ 9  8  3 42  2]\n",
            " [ 7 10 42  6  7]\n",
            " [16 14  2  7  0]]\n"
          ]
        }
      ]
    },
    {
      "cell_type": "code",
      "source": [
        "#86. Consider a set of p matrices wich shape (n,n) and a set of p vectors with shape (n,1). How to compute the sum of of the p matrix products at once? (result has shape (n,1)) \n",
        "p, n = 10, 10\n",
        "M = np.ones((p,n,n))\n",
        "V = np.ones((p,n,1))\n",
        "S = np.tensordot(M, V, axes=[[0, 2], [0, 1]])\n",
        "print(S)"
      ],
      "metadata": {
        "id": "KBIe84hOgoc-",
        "colab": {
          "base_uri": "https://localhost:8080/"
        },
        "outputId": "c9dfdf5f-cee9-4115-a230-85b4c4c9a58e"
      },
      "execution_count": null,
      "outputs": [
        {
          "output_type": "stream",
          "name": "stdout",
          "text": [
            "[[100.]\n",
            " [100.]\n",
            " [100.]\n",
            " [100.]\n",
            " [100.]\n",
            " [100.]\n",
            " [100.]\n",
            " [100.]\n",
            " [100.]\n",
            " [100.]]\n"
          ]
        }
      ]
    },
    {
      "cell_type": "code",
      "source": [
        "#87. Consider a 16x16 array, how to get the block-sum (block size is 4x4)? \n",
        "Z = np.ones((16,16))\n",
        "k = 4\n",
        "S = np.add.reduceat(np.add.reduceat(Z, np.arange(0, Z.shape[0], k), axis=0),\n",
        "                                       np.arange(0, Z.shape[1], k), axis=1)\n",
        "print(S)"
      ],
      "metadata": {
        "id": "dztfKwM9goj1",
        "colab": {
          "base_uri": "https://localhost:8080/"
        },
        "outputId": "9d68be4b-5230-4252-c021-be75669ffe51"
      },
      "execution_count": null,
      "outputs": [
        {
          "output_type": "stream",
          "name": "stdout",
          "text": [
            "[[16. 16. 16. 16.]\n",
            " [16. 16. 16. 16.]\n",
            " [16. 16. 16. 16.]\n",
            " [16. 16. 16. 16.]]\n"
          ]
        }
      ]
    },
    {
      "cell_type": "code",
      "source": [
        "#88. How to implement the Game of Life using numpy arrays? \n",
        "def iterate(Z):\n",
        "    N = (Z[0:-2,0:-2] + Z[0:-2,1:-1] + Z[0:-2,2:] +\n",
        "         Z[1:-1,0:-2]                + Z[1:-1,2:] +\n",
        "         Z[2:  ,0:-2] + Z[2:  ,1:-1] + Z[2:  ,2:])\n",
        "\n",
        "\n",
        "    birth = (N==3) & (Z[1:-1,1:-1]==0)\n",
        "    survive = ((N==2) | (N==3)) & (Z[1:-1,1:-1]==1)\n",
        "    Z[...] = 0\n",
        "    Z[1:-1,1:-1][birth | survive] = 1\n",
        "    return Z\n",
        "\n",
        "Z = np.random.randint(0,2,(50,50))\n",
        "for i in range(100): Z = iterate(Z)\n",
        "print(Z)"
      ],
      "metadata": {
        "id": "kxlrQUHvgoqY",
        "colab": {
          "base_uri": "https://localhost:8080/"
        },
        "outputId": "546249cc-600f-416e-d586-7f9fd0365108"
      },
      "execution_count": null,
      "outputs": [
        {
          "output_type": "stream",
          "name": "stdout",
          "text": [
            "[[0 0 0 ... 0 0 0]\n",
            " [0 0 0 ... 0 0 0]\n",
            " [0 1 1 ... 0 0 0]\n",
            " ...\n",
            " [0 0 0 ... 0 0 0]\n",
            " [0 0 0 ... 0 0 0]\n",
            " [0 0 0 ... 0 0 0]]\n"
          ]
        }
      ]
    },
    {
      "cell_type": "code",
      "source": [
        "#89. How to get the n largest values of an array \n",
        "Z = np.arange(10000)\n",
        "print (Z[np.argsort(Z)[-n:]])"
      ],
      "metadata": {
        "id": "4E5G6Phrgoxy",
        "colab": {
          "base_uri": "https://localhost:8080/"
        },
        "outputId": "faafbdb0-d28b-4515-e5f2-db4e7833d706"
      },
      "execution_count": null,
      "outputs": [
        {
          "output_type": "stream",
          "name": "stdout",
          "text": [
            "[9990 9991 9992 9993 9994 9995 9996 9997 9998 9999]\n"
          ]
        }
      ]
    },
    {
      "cell_type": "code",
      "source": [
        "#90. Given an arbitrary number of vectors, build the cartesian product (every combinations of every item) \n",
        "def cartesian(arrays):\n",
        "    arrays = [np.asarray(a) for a in arrays]\n",
        "    shape = (len(x) for x in arrays)\n",
        "\n",
        "    ix = np.indices(shape, dtype=int)\n",
        "    ix = ix.reshape(len(arrays), -1).T\n",
        "\n",
        "    for n, arr in enumerate(arrays):\n",
        "        ix[:, n] = arrays[n][ix[:, n]]\n",
        "\n",
        "    return ix\n",
        "\n",
        "print (cartesian(([1, 2, 3], [4, 5], [6, 7])))"
      ],
      "metadata": {
        "id": "kFLPR-mUgo5D",
        "colab": {
          "base_uri": "https://localhost:8080/"
        },
        "outputId": "ee215405-1e03-42f8-f080-330cb4ea3f98"
      },
      "execution_count": null,
      "outputs": [
        {
          "output_type": "stream",
          "name": "stdout",
          "text": [
            "[[1 4 6]\n",
            " [1 4 7]\n",
            " [1 5 6]\n",
            " [1 5 7]\n",
            " [2 4 6]\n",
            " [2 4 7]\n",
            " [2 5 6]\n",
            " [2 5 7]\n",
            " [3 4 6]\n",
            " [3 4 7]\n",
            " [3 5 6]\n",
            " [3 5 7]]\n"
          ]
        }
      ]
    },
    {
      "cell_type": "code",
      "source": [
        "#91. How to create a record array from a regular array?\n",
        "Z = np.array([(\"Hello\", 2.5, 3),\n",
        "              (\"World\", 3.6, 2)])\n",
        "R = np.core.records.fromarrays(Z.T,\n",
        "                               names='col1, col2, col3',\n",
        "                               formats = 'S8, f8, i8')\n",
        "print(R)"
      ],
      "metadata": {
        "id": "ZkPxoNRngpAL",
        "colab": {
          "base_uri": "https://localhost:8080/"
        },
        "outputId": "a24e9d59-ba26-4d82-f0a5-066074036531"
      },
      "execution_count": null,
      "outputs": [
        {
          "output_type": "stream",
          "name": "stdout",
          "text": [
            "[(b'Hello', 2.5, 3) (b'World', 3.6, 2)]\n"
          ]
        }
      ]
    },
    {
      "cell_type": "code",
      "source": [
        "#92. Consider a large vector Z, compute Z to the power of 3 using 3 different methods \n",
        "x = np.random.rand(int(5e7))\n",
        "\n",
        "%timeit np.power(x,3)\n",
        "%timeit x*x*x\n",
        "%timeit np.einsum('i,i,i->i',x,x,x)"
      ],
      "metadata": {
        "id": "bu3H3KFKgpHf",
        "colab": {
          "base_uri": "https://localhost:8080/"
        },
        "outputId": "6e091a3a-bf0f-4da4-be3d-ff0b2ed8f5d1"
      },
      "execution_count": null,
      "outputs": [
        {
          "output_type": "stream",
          "name": "stdout",
          "text": [
            "1 loop, best of 5: 3.4 s per loop\n",
            "10 loops, best of 5: 188 ms per loop\n",
            "10 loops, best of 5: 148 ms per loop\n"
          ]
        }
      ]
    },
    {
      "cell_type": "code",
      "source": [
        "#93. Consider two arrays A and B of shape (8,3) and (2,2). How to find rows of A that contain elements of each row of B regardless of the order of the elements in B? \n",
        "A = np.random.randint(0,5,(8,3))\n",
        "B = np.random.randint(0,5,(2,2))\n",
        "\n",
        "C = (A[..., np.newaxis, np.newaxis] == B)\n",
        "rows = np.where(C.any((3,1)).all(1))[0]\n",
        "print(rows)"
      ],
      "metadata": {
        "id": "EyYwBmkVgpOV",
        "colab": {
          "base_uri": "https://localhost:8080/"
        },
        "outputId": "a6642d13-e12b-4035-dce6-ff292fca6c17"
      },
      "execution_count": null,
      "outputs": [
        {
          "output_type": "stream",
          "name": "stdout",
          "text": [
            "[3 4 5 7]\n"
          ]
        }
      ]
    },
    {
      "cell_type": "code",
      "source": [
        "#94. Considering a 10x3 matrix, extract rows with unequal values (e.g. [2,2,3])\n",
        "Z = np.random.randint(0,5,(10,3))\n",
        "print(Z)\n",
        "\n",
        "E = np.all(Z[:,1:] == Z[:,:-1], axis=1)\n",
        "U = Z[~E]\n",
        "print(U)\n",
        "\n",
        "U = Z[Z.max(axis=1) != Z.min(axis=1),:]\n",
        "print(U)"
      ],
      "metadata": {
        "id": "Ecl4NVergpVj",
        "colab": {
          "base_uri": "https://localhost:8080/"
        },
        "outputId": "edec7fcd-7648-43f0-f623-1c494c9e4de0"
      },
      "execution_count": null,
      "outputs": [
        {
          "output_type": "stream",
          "name": "stdout",
          "text": [
            "[[4 1 0]\n",
            " [0 3 1]\n",
            " [4 3 2]\n",
            " [4 4 1]\n",
            " [4 4 2]\n",
            " [2 2 2]\n",
            " [2 4 2]\n",
            " [2 4 0]\n",
            " [0 0 2]\n",
            " [3 1 1]]\n",
            "[[4 1 0]\n",
            " [0 3 1]\n",
            " [4 3 2]\n",
            " [4 4 1]\n",
            " [4 4 2]\n",
            " [2 4 2]\n",
            " [2 4 0]\n",
            " [0 0 2]\n",
            " [3 1 1]]\n",
            "[[4 1 0]\n",
            " [0 3 1]\n",
            " [4 3 2]\n",
            " [4 4 1]\n",
            " [4 4 2]\n",
            " [2 4 2]\n",
            " [2 4 0]\n",
            " [0 0 2]\n",
            " [3 1 1]]\n"
          ]
        }
      ]
    },
    {
      "cell_type": "code",
      "source": [
        "#95. Convert a vector of ints into a matrix binary representation \n",
        "I = np.array([0, 1, 2, 3, 15, 16, 32, 64, 128], dtype=np.uint8)\n",
        "print(np.unpackbits(I[:, np.newaxis], axis=1))"
      ],
      "metadata": {
        "id": "qTPHxdYFgpcY",
        "colab": {
          "base_uri": "https://localhost:8080/"
        },
        "outputId": "a91a428f-7bd0-4b8c-ad49-7f77c0091219"
      },
      "execution_count": null,
      "outputs": [
        {
          "output_type": "stream",
          "name": "stdout",
          "text": [
            "[[0 0 0 0 0 0 0 0]\n",
            " [0 0 0 0 0 0 0 1]\n",
            " [0 0 0 0 0 0 1 0]\n",
            " [0 0 0 0 0 0 1 1]\n",
            " [0 0 0 0 1 1 1 1]\n",
            " [0 0 0 1 0 0 0 0]\n",
            " [0 0 1 0 0 0 0 0]\n",
            " [0 1 0 0 0 0 0 0]\n",
            " [1 0 0 0 0 0 0 0]]\n"
          ]
        }
      ]
    },
    {
      "cell_type": "code",
      "source": [
        "#96. Given a two dimensional array, how to extract unique rows?\n",
        "Z = np.random.randint(0,2,(6,3))\n",
        "T = np.ascontiguousarray(Z).view(np.dtype((np.void, Z.dtype.itemsize * Z.shape[1])))\n",
        "_, idx = np.unique(T, return_index=True)\n",
        "uZ = Z[idx]\n",
        "print(uZ)"
      ],
      "metadata": {
        "id": "FAoY8FW4gpjs",
        "colab": {
          "base_uri": "https://localhost:8080/"
        },
        "outputId": "da67c7bd-7db0-459f-ab56-f16a7f91a208"
      },
      "execution_count": null,
      "outputs": [
        {
          "output_type": "stream",
          "name": "stdout",
          "text": [
            "[[0 0 0]\n",
            " [0 0 1]\n",
            " [1 1 1]]\n"
          ]
        }
      ]
    },
    {
      "cell_type": "code",
      "source": [
        "#97. Considering 2 vectors A & B, write the einsum equivalent of inner, outer, sum, and mul function\n",
        "A = np.random.uniform(0,1,10)\n",
        "B = np.random.uniform(0,1,10)\n",
        "\n",
        "np.einsum('i->', A)       \n",
        "np.einsum('i,i->i', A, B) \n",
        "np.einsum('i,i', A, B)    \n",
        "np.einsum('i,j->ij', A, B)"
      ],
      "metadata": {
        "id": "V97rJZ_hfk47",
        "colab": {
          "base_uri": "https://localhost:8080/"
        },
        "outputId": "9a072596-1c9d-419a-b1ad-001d18c67090"
      },
      "execution_count": null,
      "outputs": [
        {
          "output_type": "execute_result",
          "data": {
            "text/plain": [
              "array([[0.10902724, 0.08009177, 0.00122559, 0.09054429, 0.03924136,\n",
              "        0.09260101, 0.0304984 , 0.06481906, 0.02142742, 0.03523871],\n",
              "       [0.32290974, 0.23721057, 0.00362986, 0.26816815, 0.11622249,\n",
              "        0.27425962, 0.09032816, 0.19197686, 0.06346232, 0.10436771],\n",
              "       [0.07347689, 0.05397637, 0.00082596, 0.06102065, 0.02644599,\n",
              "        0.06240674, 0.02055383, 0.04368361, 0.01444061, 0.02374848],\n",
              "       [0.61938044, 0.45499893, 0.00696251, 0.51437937, 0.22292897,\n",
              "        0.52606355, 0.17326049, 0.36823514, 0.12172851, 0.20019005],\n",
              "       [0.65689408, 0.48255658, 0.00738421, 0.54553347, 0.23643097,\n",
              "        0.55792532, 0.18375425, 0.39053781, 0.12910117, 0.21231484],\n",
              "       [0.48390004, 0.35547458, 0.00543957, 0.40186641, 0.17416652,\n",
              "        0.41099485, 0.13536229, 0.28768909, 0.09510218, 0.15640141],\n",
              "       [0.65474468, 0.48097762, 0.00736005, 0.54374845, 0.23565735,\n",
              "        0.55609976, 0.18315299, 0.38925995, 0.12867874, 0.21162014],\n",
              "       [0.31372373, 0.2304625 , 0.0035266 , 0.26053941, 0.11291623,\n",
              "        0.26645759, 0.08775854, 0.18651558, 0.06165697, 0.1013987 ],\n",
              "       [0.28119327, 0.20656552, 0.00316092, 0.23352371, 0.10120779,\n",
              "        0.23882823, 0.07865874, 0.16717551, 0.05526367, 0.09088452],\n",
              "       [0.65629309, 0.48211509, 0.00737745, 0.54503437, 0.23621466,\n",
              "        0.55741488, 0.18358613, 0.39018051, 0.12898305, 0.2121206 ]])"
            ]
          },
          "metadata": {},
          "execution_count": 27
        }
      ]
    },
    {
      "cell_type": "code",
      "source": [
        "#98. Considering a path described by two vectors (X,Y), how to sample it using equidistant samples\n",
        "phi = np.arange(0, 10*np.pi, 0.1)\n",
        "a = 1\n",
        "x = a*phi*np.cos(phi)\n",
        "y = a*phi*np.sin(phi)\n",
        "\n",
        "dr = (np.diff(x)**2 + np.diff(y)**2)**.5 \n",
        "r = np.zeros_like(x)\n",
        "r[1:] = np.cumsum(dr)                \n",
        "r_int = np.linspace(0, r.max(), 200) \n",
        "x_int = np.interp(r_int, r, x)       \n",
        "y_int = np.interp(r_int, r, y)"
      ],
      "metadata": {
        "id": "HAFXtSk0fk8W"
      },
      "execution_count": null,
      "outputs": []
    },
    {
      "cell_type": "code",
      "source": [
        "#99. Given an integer n and a 2D array X, select from X the rows which can be interpreted as draws from a multinomial distribution with n degrees, i.e., the rows which only contain integers and which sum to n.\n",
        "X = np.asarray([[1.0, 0.0, 3.0, 8.0],\n",
        "                [2.0, 0.0, 1.0, 1.0],\n",
        "                [1.5, 2.5, 1.0, 0.0]])\n",
        "n = 4\n",
        "M = np.logical_and.reduce(np.mod(X, 1) == 0, axis=-1)\n",
        "M &= (X.sum(axis=-1) == n)\n",
        "print(X[M])"
      ],
      "metadata": {
        "id": "upOwYkd1fk_4",
        "colab": {
          "base_uri": "https://localhost:8080/"
        },
        "outputId": "f006c2f9-9b50-4577-87e7-d92c8a213220"
      },
      "execution_count": null,
      "outputs": [
        {
          "output_type": "stream",
          "name": "stdout",
          "text": [
            "[[2. 0. 1. 1.]]\n"
          ]
        }
      ]
    },
    {
      "cell_type": "code",
      "source": [
        "#100. Compute bootstrapped 95% confidence intervals for the mean of a 1D array X (i.e., resample the elements of an array with replacement N times, compute the mean of each sample, and then compute percentiles over the means). \n",
        "X = np.random.randn(100) # random 1D array\n",
        "N = 1000 # number of bootstrap samples\n",
        "idx = np.random.randint(0, X.size, (N, X.size))\n",
        "means = X[idx].mean(axis=1)\n",
        "confint = np.percentile(means, [2.5, 97.5])\n",
        "print(confint)"
      ],
      "metadata": {
        "id": "Fi5xniLSflC7",
        "colab": {
          "base_uri": "https://localhost:8080/"
        },
        "outputId": "512cc1d7-a582-4b7e-e7d5-9a461160f9a6"
      },
      "execution_count": null,
      "outputs": [
        {
          "output_type": "stream",
          "name": "stdout",
          "text": [
            "[-0.14439366  0.29304958]\n"
          ]
        }
      ]
    }
  ]
}